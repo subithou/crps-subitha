{
 "cells": [
  {
   "cell_type": "code",
   "execution_count": 26,
   "outputs": [],
   "source": [
    "import pandas as pd\n",
    "from sklearn.tree import DecisionTreeClassifier\n",
    "from sklearn.model_selection import train_test_split\n",
    "from sklearn.preprocessing import LabelEncoder"
   ],
   "metadata": {
    "collapsed": false,
    "ExecuteTime": {
     "end_time": "2023-06-15T01:18:14.250888Z",
     "start_time": "2023-06-15T01:18:14.238593Z"
    }
   }
  },
  {
   "cell_type": "code",
   "execution_count": 27,
   "outputs": [],
   "source": [
    "df = pd.read_csv('../data/Fertilizer Prediction.csv')"
   ],
   "metadata": {
    "collapsed": false,
    "ExecuteTime": {
     "end_time": "2023-06-15T01:18:14.288405Z",
     "start_time": "2023-06-15T01:18:14.243562Z"
    }
   }
  },
  {
   "cell_type": "code",
   "execution_count": 28,
   "outputs": [
    {
     "data": {
      "text/plain": "0      Sandy\n1      Loamy\n2      Black\n3        Red\n4     Clayey\n       ...  \n94    Clayey\n95       Red\n96     Loamy\n97     Sandy\n98     Black\nName: Soil Type, Length: 99, dtype: object"
     },
     "execution_count": 28,
     "metadata": {},
     "output_type": "execute_result"
    }
   ],
   "source": [
    "df[\"Soil Type\"]"
   ],
   "metadata": {
    "collapsed": false,
    "ExecuteTime": {
     "end_time": "2023-06-15T01:18:14.289380Z",
     "start_time": "2023-06-15T01:18:14.255438Z"
    }
   }
  },
  {
   "cell_type": "code",
   "execution_count": 29,
   "outputs": [
    {
     "data": {
      "text/plain": "    Temparature  Humidity  Soil Type  Crop Type  Nitrogen  Potassium  \\\n0            26         52     Sandy      Maize        37          0   \n1            29         52     Loamy  Sugarcane        12          0   \n2            34         65     Black     Cotton         7          9   \n3            32         62       Red    Tobacco        22          0   \n4            28         54    Clayey      Paddy        35          0   \n..          ...        ...       ...        ...       ...        ...   \n94           25         50    Clayey     Pulses        24          0   \n95           30         60       Red    Tobacco         4         17   \n96           38         72     Loamy      Wheat        39          0   \n97           36         60     Sandy    Millets        15          0   \n98           29         58     Black  Sugarcane        12          0   \n\n    Phosphorous Fertilizer Name  \n0             0            Urea  \n1            36             DAP  \n2            30        14-35-14  \n3            20           28-28  \n4             0            Urea  \n..          ...             ...  \n94           19           28-28  \n95           17        10-26-26  \n96            0            Urea  \n97           41             DAP  \n98           10           20-20  \n\n[99 rows x 8 columns]",
      "text/html": "<div>\n<style scoped>\n    .dataframe tbody tr th:only-of-type {\n        vertical-align: middle;\n    }\n\n    .dataframe tbody tr th {\n        vertical-align: top;\n    }\n\n    .dataframe thead th {\n        text-align: right;\n    }\n</style>\n<table border=\"1\" class=\"dataframe\">\n  <thead>\n    <tr style=\"text-align: right;\">\n      <th></th>\n      <th>Temparature</th>\n      <th>Humidity</th>\n      <th>Soil Type</th>\n      <th>Crop Type</th>\n      <th>Nitrogen</th>\n      <th>Potassium</th>\n      <th>Phosphorous</th>\n      <th>Fertilizer Name</th>\n    </tr>\n  </thead>\n  <tbody>\n    <tr>\n      <th>0</th>\n      <td>26</td>\n      <td>52</td>\n      <td>Sandy</td>\n      <td>Maize</td>\n      <td>37</td>\n      <td>0</td>\n      <td>0</td>\n      <td>Urea</td>\n    </tr>\n    <tr>\n      <th>1</th>\n      <td>29</td>\n      <td>52</td>\n      <td>Loamy</td>\n      <td>Sugarcane</td>\n      <td>12</td>\n      <td>0</td>\n      <td>36</td>\n      <td>DAP</td>\n    </tr>\n    <tr>\n      <th>2</th>\n      <td>34</td>\n      <td>65</td>\n      <td>Black</td>\n      <td>Cotton</td>\n      <td>7</td>\n      <td>9</td>\n      <td>30</td>\n      <td>14-35-14</td>\n    </tr>\n    <tr>\n      <th>3</th>\n      <td>32</td>\n      <td>62</td>\n      <td>Red</td>\n      <td>Tobacco</td>\n      <td>22</td>\n      <td>0</td>\n      <td>20</td>\n      <td>28-28</td>\n    </tr>\n    <tr>\n      <th>4</th>\n      <td>28</td>\n      <td>54</td>\n      <td>Clayey</td>\n      <td>Paddy</td>\n      <td>35</td>\n      <td>0</td>\n      <td>0</td>\n      <td>Urea</td>\n    </tr>\n    <tr>\n      <th>...</th>\n      <td>...</td>\n      <td>...</td>\n      <td>...</td>\n      <td>...</td>\n      <td>...</td>\n      <td>...</td>\n      <td>...</td>\n      <td>...</td>\n    </tr>\n    <tr>\n      <th>94</th>\n      <td>25</td>\n      <td>50</td>\n      <td>Clayey</td>\n      <td>Pulses</td>\n      <td>24</td>\n      <td>0</td>\n      <td>19</td>\n      <td>28-28</td>\n    </tr>\n    <tr>\n      <th>95</th>\n      <td>30</td>\n      <td>60</td>\n      <td>Red</td>\n      <td>Tobacco</td>\n      <td>4</td>\n      <td>17</td>\n      <td>17</td>\n      <td>10-26-26</td>\n    </tr>\n    <tr>\n      <th>96</th>\n      <td>38</td>\n      <td>72</td>\n      <td>Loamy</td>\n      <td>Wheat</td>\n      <td>39</td>\n      <td>0</td>\n      <td>0</td>\n      <td>Urea</td>\n    </tr>\n    <tr>\n      <th>97</th>\n      <td>36</td>\n      <td>60</td>\n      <td>Sandy</td>\n      <td>Millets</td>\n      <td>15</td>\n      <td>0</td>\n      <td>41</td>\n      <td>DAP</td>\n    </tr>\n    <tr>\n      <th>98</th>\n      <td>29</td>\n      <td>58</td>\n      <td>Black</td>\n      <td>Sugarcane</td>\n      <td>12</td>\n      <td>0</td>\n      <td>10</td>\n      <td>20-20</td>\n    </tr>\n  </tbody>\n</table>\n<p>99 rows × 8 columns</p>\n</div>"
     },
     "execution_count": 29,
     "metadata": {},
     "output_type": "execute_result"
    }
   ],
   "source": [
    "df.drop('Moisture', axis=1)"
   ],
   "metadata": {
    "collapsed": false,
    "ExecuteTime": {
     "end_time": "2023-06-15T01:18:14.289872Z",
     "start_time": "2023-06-15T01:18:14.266927Z"
    }
   }
  },
  {
   "cell_type": "code",
   "execution_count": 30,
   "outputs": [
    {
     "data": {
      "text/plain": "0      Sandy\n1      Loamy\n2      Black\n3        Red\n4     Clayey\n       ...  \n94    Clayey\n95       Red\n96     Loamy\n97     Sandy\n98     Black\nName: Soil Type, Length: 99, dtype: object"
     },
     "execution_count": 30,
     "metadata": {},
     "output_type": "execute_result"
    }
   ],
   "source": [
    "df[\"Soil Type\"]"
   ],
   "metadata": {
    "collapsed": false,
    "ExecuteTime": {
     "end_time": "2023-06-15T01:18:14.290113Z",
     "start_time": "2023-06-15T01:18:14.272762Z"
    }
   }
  },
  {
   "cell_type": "code",
   "execution_count": 31,
   "outputs": [
    {
     "data": {
      "text/plain": "LabelEncoder()",
      "text/html": "<style>#sk-container-id-3 {color: black;background-color: white;}#sk-container-id-3 pre{padding: 0;}#sk-container-id-3 div.sk-toggleable {background-color: white;}#sk-container-id-3 label.sk-toggleable__label {cursor: pointer;display: block;width: 100%;margin-bottom: 0;padding: 0.3em;box-sizing: border-box;text-align: center;}#sk-container-id-3 label.sk-toggleable__label-arrow:before {content: \"▸\";float: left;margin-right: 0.25em;color: #696969;}#sk-container-id-3 label.sk-toggleable__label-arrow:hover:before {color: black;}#sk-container-id-3 div.sk-estimator:hover label.sk-toggleable__label-arrow:before {color: black;}#sk-container-id-3 div.sk-toggleable__content {max-height: 0;max-width: 0;overflow: hidden;text-align: left;background-color: #f0f8ff;}#sk-container-id-3 div.sk-toggleable__content pre {margin: 0.2em;color: black;border-radius: 0.25em;background-color: #f0f8ff;}#sk-container-id-3 input.sk-toggleable__control:checked~div.sk-toggleable__content {max-height: 200px;max-width: 100%;overflow: auto;}#sk-container-id-3 input.sk-toggleable__control:checked~label.sk-toggleable__label-arrow:before {content: \"▾\";}#sk-container-id-3 div.sk-estimator input.sk-toggleable__control:checked~label.sk-toggleable__label {background-color: #d4ebff;}#sk-container-id-3 div.sk-label input.sk-toggleable__control:checked~label.sk-toggleable__label {background-color: #d4ebff;}#sk-container-id-3 input.sk-hidden--visually {border: 0;clip: rect(1px 1px 1px 1px);clip: rect(1px, 1px, 1px, 1px);height: 1px;margin: -1px;overflow: hidden;padding: 0;position: absolute;width: 1px;}#sk-container-id-3 div.sk-estimator {font-family: monospace;background-color: #f0f8ff;border: 1px dotted black;border-radius: 0.25em;box-sizing: border-box;margin-bottom: 0.5em;}#sk-container-id-3 div.sk-estimator:hover {background-color: #d4ebff;}#sk-container-id-3 div.sk-parallel-item::after {content: \"\";width: 100%;border-bottom: 1px solid gray;flex-grow: 1;}#sk-container-id-3 div.sk-label:hover label.sk-toggleable__label {background-color: #d4ebff;}#sk-container-id-3 div.sk-serial::before {content: \"\";position: absolute;border-left: 1px solid gray;box-sizing: border-box;top: 0;bottom: 0;left: 50%;z-index: 0;}#sk-container-id-3 div.sk-serial {display: flex;flex-direction: column;align-items: center;background-color: white;padding-right: 0.2em;padding-left: 0.2em;position: relative;}#sk-container-id-3 div.sk-item {position: relative;z-index: 1;}#sk-container-id-3 div.sk-parallel {display: flex;align-items: stretch;justify-content: center;background-color: white;position: relative;}#sk-container-id-3 div.sk-item::before, #sk-container-id-3 div.sk-parallel-item::before {content: \"\";position: absolute;border-left: 1px solid gray;box-sizing: border-box;top: 0;bottom: 0;left: 50%;z-index: -1;}#sk-container-id-3 div.sk-parallel-item {display: flex;flex-direction: column;z-index: 1;position: relative;background-color: white;}#sk-container-id-3 div.sk-parallel-item:first-child::after {align-self: flex-end;width: 50%;}#sk-container-id-3 div.sk-parallel-item:last-child::after {align-self: flex-start;width: 50%;}#sk-container-id-3 div.sk-parallel-item:only-child::after {width: 0;}#sk-container-id-3 div.sk-dashed-wrapped {border: 1px dashed gray;margin: 0 0.4em 0.5em 0.4em;box-sizing: border-box;padding-bottom: 0.4em;background-color: white;}#sk-container-id-3 div.sk-label label {font-family: monospace;font-weight: bold;display: inline-block;line-height: 1.2em;}#sk-container-id-3 div.sk-label-container {text-align: center;}#sk-container-id-3 div.sk-container {/* jupyter's `normalize.less` sets `[hidden] { display: none; }` but bootstrap.min.css set `[hidden] { display: none !important; }` so we also need the `!important` here to be able to override the default hidden behavior on the sphinx rendered scikit-learn.org. See: https://github.com/scikit-learn/scikit-learn/issues/21755 */display: inline-block !important;position: relative;}#sk-container-id-3 div.sk-text-repr-fallback {display: none;}</style><div id=\"sk-container-id-3\" class=\"sk-top-container\"><div class=\"sk-text-repr-fallback\"><pre>LabelEncoder()</pre><b>In a Jupyter environment, please rerun this cell to show the HTML representation or trust the notebook. <br />On GitHub, the HTML representation is unable to render, please try loading this page with nbviewer.org.</b></div><div class=\"sk-container\" hidden><div class=\"sk-item\"><div class=\"sk-estimator sk-toggleable\"><input class=\"sk-toggleable__control sk-hidden--visually\" id=\"sk-estimator-id-3\" type=\"checkbox\" checked><label for=\"sk-estimator-id-3\" class=\"sk-toggleable__label sk-toggleable__label-arrow\">LabelEncoder</label><div class=\"sk-toggleable__content\"><pre>LabelEncoder()</pre></div></div></div></div></div>"
     },
     "execution_count": 31,
     "metadata": {},
     "output_type": "execute_result"
    }
   ],
   "source": [
    "LE = LabelEncoder()\n",
    "LE.fit(df[\"Soil Type\"])"
   ],
   "metadata": {
    "collapsed": false,
    "ExecuteTime": {
     "end_time": "2023-06-15T01:18:14.290277Z",
     "start_time": "2023-06-15T01:18:14.279133Z"
    }
   }
  },
  {
   "cell_type": "code",
   "execution_count": 32,
   "outputs": [
    {
     "data": {
      "text/plain": "array(['Black', 'Clayey', 'Loamy', 'Red', 'Sandy'], dtype=object)"
     },
     "execution_count": 32,
     "metadata": {},
     "output_type": "execute_result"
    }
   ],
   "source": [
    "LE.classes_"
   ],
   "metadata": {
    "collapsed": false,
    "ExecuteTime": {
     "end_time": "2023-06-15T01:18:14.290408Z",
     "start_time": "2023-06-15T01:18:14.283135Z"
    }
   }
  },
  {
   "cell_type": "code",
   "execution_count": 33,
   "outputs": [],
   "source": [
    "df[\"Soil Type\"] = LE.transform(df[\"Soil Type\"])"
   ],
   "metadata": {
    "collapsed": false,
    "ExecuteTime": {
     "end_time": "2023-06-15T01:18:14.293354Z",
     "start_time": "2023-06-15T01:18:14.289544Z"
    }
   }
  },
  {
   "cell_type": "code",
   "execution_count": 34,
   "outputs": [
    {
     "data": {
      "text/plain": "0     4\n1     2\n2     0\n3     3\n4     1\n     ..\n94    1\n95    3\n96    2\n97    4\n98    0\nName: Soil Type, Length: 99, dtype: int64"
     },
     "execution_count": 34,
     "metadata": {},
     "output_type": "execute_result"
    }
   ],
   "source": [
    "df[\"Soil Type\"]"
   ],
   "metadata": {
    "collapsed": false,
    "ExecuteTime": {
     "end_time": "2023-06-15T01:18:14.296238Z",
     "start_time": "2023-06-15T01:18:14.292867Z"
    }
   }
  },
  {
   "cell_type": "code",
   "execution_count": 35,
   "outputs": [
    {
     "data": {
      "text/plain": "0         Maize\n1     Sugarcane\n2        Cotton\n3       Tobacco\n4         Paddy\n        ...    \n94       Pulses\n95      Tobacco\n96        Wheat\n97      Millets\n98    Sugarcane\nName: Crop Type, Length: 99, dtype: object"
     },
     "execution_count": 35,
     "metadata": {},
     "output_type": "execute_result"
    }
   ],
   "source": [
    "df[\"Crop Type\"]"
   ],
   "metadata": {
    "collapsed": false,
    "ExecuteTime": {
     "end_time": "2023-06-15T01:18:14.301668Z",
     "start_time": "2023-06-15T01:18:14.299236Z"
    }
   }
  },
  {
   "cell_type": "code",
   "execution_count": 36,
   "outputs": [],
   "source": [
    "LE_crop = LabelEncoder().fit(df[\"Crop Type\"])\n",
    "df[\"Crop Type\"] = LE_crop.transform(df[\"Crop Type\"])"
   ],
   "metadata": {
    "collapsed": false,
    "ExecuteTime": {
     "end_time": "2023-06-15T01:18:14.304853Z",
     "start_time": "2023-06-15T01:18:14.302636Z"
    }
   }
  },
  {
   "cell_type": "code",
   "execution_count": 37,
   "outputs": [
    {
     "data": {
      "text/plain": "0      3\n1      8\n2      1\n3      9\n4      6\n      ..\n94     7\n95     9\n96    10\n97     4\n98     8\nName: Crop Type, Length: 99, dtype: int64"
     },
     "execution_count": 37,
     "metadata": {},
     "output_type": "execute_result"
    }
   ],
   "source": [
    "df[\"Crop Type\"]"
   ],
   "metadata": {
    "collapsed": false,
    "ExecuteTime": {
     "end_time": "2023-06-15T01:18:14.309311Z",
     "start_time": "2023-06-15T01:18:14.306818Z"
    }
   }
  },
  {
   "cell_type": "code",
   "execution_count": 38,
   "outputs": [
    {
     "data": {
      "text/plain": "Index(['Temparature', 'Humidity ', 'Moisture', 'Soil Type', 'Crop Type',\n       'Nitrogen', 'Potassium', 'Phosphorous', 'Fertilizer Name'],\n      dtype='object')"
     },
     "execution_count": 38,
     "metadata": {},
     "output_type": "execute_result"
    }
   ],
   "source": [
    "df.columns"
   ],
   "metadata": {
    "collapsed": false,
    "ExecuteTime": {
     "end_time": "2023-06-15T01:18:14.326841Z",
     "start_time": "2023-06-15T01:18:14.310760Z"
    }
   }
  },
  {
   "cell_type": "code",
   "execution_count": 39,
   "outputs": [],
   "source": [
    "x_train, x_test, y_train, y_test = train_test_split(df[[\"Temparature\",\"Humidity \",\"Soil Type\",\"Crop Type\",\"Nitrogen\",\"Potassium\",\"Phosphorous\"]], df[[\"Fertilizer Name\"]], test_size=0.2)"
   ],
   "metadata": {
    "collapsed": false,
    "ExecuteTime": {
     "end_time": "2023-06-15T01:18:14.345608Z",
     "start_time": "2023-06-15T01:18:14.318451Z"
    }
   }
  },
  {
   "cell_type": "code",
   "execution_count": 47,
   "outputs": [
    {
     "data": {
      "text/plain": "    Temparature  Humidity   Soil Type  Crop Type  Nitrogen  Potassium  \\\n44           35         67          4          0        10          0   \n53           30         60          4          0        12          0   \n21           34         65          2          8        12         14   \n59           32         62          3          2        15          0   \n85           35         67          1          7         8          7   \n..          ...        ...        ...        ...       ...        ...   \n62           34         65          0          1        24          0   \n51           36         68          0          5        13          0   \n69           30         60          4          4        10          0   \n83           26         52          2          8        11          0   \n71           31         62          3          9        39          0   \n\n    Phosphorous  \n44           35  \n53           42  \n21           12  \n59           37  \n85           31  \n..          ...  \n62           20  \n51           14  \n69           14  \n83            9  \n71            0  \n\n[79 rows x 7 columns]",
      "text/html": "<div>\n<style scoped>\n    .dataframe tbody tr th:only-of-type {\n        vertical-align: middle;\n    }\n\n    .dataframe tbody tr th {\n        vertical-align: top;\n    }\n\n    .dataframe thead th {\n        text-align: right;\n    }\n</style>\n<table border=\"1\" class=\"dataframe\">\n  <thead>\n    <tr style=\"text-align: right;\">\n      <th></th>\n      <th>Temparature</th>\n      <th>Humidity</th>\n      <th>Soil Type</th>\n      <th>Crop Type</th>\n      <th>Nitrogen</th>\n      <th>Potassium</th>\n      <th>Phosphorous</th>\n    </tr>\n  </thead>\n  <tbody>\n    <tr>\n      <th>44</th>\n      <td>35</td>\n      <td>67</td>\n      <td>4</td>\n      <td>0</td>\n      <td>10</td>\n      <td>0</td>\n      <td>35</td>\n    </tr>\n    <tr>\n      <th>53</th>\n      <td>30</td>\n      <td>60</td>\n      <td>4</td>\n      <td>0</td>\n      <td>12</td>\n      <td>0</td>\n      <td>42</td>\n    </tr>\n    <tr>\n      <th>21</th>\n      <td>34</td>\n      <td>65</td>\n      <td>2</td>\n      <td>8</td>\n      <td>12</td>\n      <td>14</td>\n      <td>12</td>\n    </tr>\n    <tr>\n      <th>59</th>\n      <td>32</td>\n      <td>62</td>\n      <td>3</td>\n      <td>2</td>\n      <td>15</td>\n      <td>0</td>\n      <td>37</td>\n    </tr>\n    <tr>\n      <th>85</th>\n      <td>35</td>\n      <td>67</td>\n      <td>1</td>\n      <td>7</td>\n      <td>8</td>\n      <td>7</td>\n      <td>31</td>\n    </tr>\n    <tr>\n      <th>...</th>\n      <td>...</td>\n      <td>...</td>\n      <td>...</td>\n      <td>...</td>\n      <td>...</td>\n      <td>...</td>\n      <td>...</td>\n    </tr>\n    <tr>\n      <th>62</th>\n      <td>34</td>\n      <td>65</td>\n      <td>0</td>\n      <td>1</td>\n      <td>24</td>\n      <td>0</td>\n      <td>20</td>\n    </tr>\n    <tr>\n      <th>51</th>\n      <td>36</td>\n      <td>68</td>\n      <td>0</td>\n      <td>5</td>\n      <td>13</td>\n      <td>0</td>\n      <td>14</td>\n    </tr>\n    <tr>\n      <th>69</th>\n      <td>30</td>\n      <td>60</td>\n      <td>4</td>\n      <td>4</td>\n      <td>10</td>\n      <td>0</td>\n      <td>14</td>\n    </tr>\n    <tr>\n      <th>83</th>\n      <td>26</td>\n      <td>52</td>\n      <td>2</td>\n      <td>8</td>\n      <td>11</td>\n      <td>0</td>\n      <td>9</td>\n    </tr>\n    <tr>\n      <th>71</th>\n      <td>31</td>\n      <td>62</td>\n      <td>3</td>\n      <td>9</td>\n      <td>39</td>\n      <td>0</td>\n      <td>0</td>\n    </tr>\n  </tbody>\n</table>\n<p>79 rows × 7 columns</p>\n</div>"
     },
     "execution_count": 47,
     "metadata": {},
     "output_type": "execute_result"
    }
   ],
   "source": [
    "x_train"
   ],
   "metadata": {
    "collapsed": false,
    "ExecuteTime": {
     "end_time": "2023-06-15T01:43:31.619356Z",
     "start_time": "2023-06-15T01:43:31.599885Z"
    }
   }
  },
  {
   "cell_type": "code",
   "execution_count": 40,
   "outputs": [
    {
     "data": {
      "text/plain": "((79, 7), (79, 1))"
     },
     "execution_count": 40,
     "metadata": {},
     "output_type": "execute_result"
    }
   ],
   "source": [
    "x_train.shape,y_train.shape"
   ],
   "metadata": {
    "collapsed": false,
    "ExecuteTime": {
     "end_time": "2023-06-15T01:18:14.362452Z",
     "start_time": "2023-06-15T01:18:14.321750Z"
    }
   }
  },
  {
   "cell_type": "code",
   "execution_count": 41,
   "outputs": [
    {
     "data": {
      "text/plain": "((20, 7), (20, 1))"
     },
     "execution_count": 41,
     "metadata": {},
     "output_type": "execute_result"
    }
   ],
   "source": [
    "x_test.shape,y_test.shape"
   ],
   "metadata": {
    "collapsed": false,
    "ExecuteTime": {
     "end_time": "2023-06-15T01:18:14.362841Z",
     "start_time": "2023-06-15T01:18:14.325402Z"
    }
   }
  },
  {
   "cell_type": "code",
   "execution_count": 42,
   "outputs": [],
   "source": [
    "model = DecisionTreeClassifier()"
   ],
   "metadata": {
    "collapsed": false,
    "ExecuteTime": {
     "end_time": "2023-06-15T01:18:14.362978Z",
     "start_time": "2023-06-15T01:18:14.329138Z"
    }
   }
  },
  {
   "cell_type": "code",
   "execution_count": 43,
   "outputs": [
    {
     "data": {
      "text/plain": "DecisionTreeClassifier()",
      "text/html": "<style>#sk-container-id-4 {color: black;background-color: white;}#sk-container-id-4 pre{padding: 0;}#sk-container-id-4 div.sk-toggleable {background-color: white;}#sk-container-id-4 label.sk-toggleable__label {cursor: pointer;display: block;width: 100%;margin-bottom: 0;padding: 0.3em;box-sizing: border-box;text-align: center;}#sk-container-id-4 label.sk-toggleable__label-arrow:before {content: \"▸\";float: left;margin-right: 0.25em;color: #696969;}#sk-container-id-4 label.sk-toggleable__label-arrow:hover:before {color: black;}#sk-container-id-4 div.sk-estimator:hover label.sk-toggleable__label-arrow:before {color: black;}#sk-container-id-4 div.sk-toggleable__content {max-height: 0;max-width: 0;overflow: hidden;text-align: left;background-color: #f0f8ff;}#sk-container-id-4 div.sk-toggleable__content pre {margin: 0.2em;color: black;border-radius: 0.25em;background-color: #f0f8ff;}#sk-container-id-4 input.sk-toggleable__control:checked~div.sk-toggleable__content {max-height: 200px;max-width: 100%;overflow: auto;}#sk-container-id-4 input.sk-toggleable__control:checked~label.sk-toggleable__label-arrow:before {content: \"▾\";}#sk-container-id-4 div.sk-estimator input.sk-toggleable__control:checked~label.sk-toggleable__label {background-color: #d4ebff;}#sk-container-id-4 div.sk-label input.sk-toggleable__control:checked~label.sk-toggleable__label {background-color: #d4ebff;}#sk-container-id-4 input.sk-hidden--visually {border: 0;clip: rect(1px 1px 1px 1px);clip: rect(1px, 1px, 1px, 1px);height: 1px;margin: -1px;overflow: hidden;padding: 0;position: absolute;width: 1px;}#sk-container-id-4 div.sk-estimator {font-family: monospace;background-color: #f0f8ff;border: 1px dotted black;border-radius: 0.25em;box-sizing: border-box;margin-bottom: 0.5em;}#sk-container-id-4 div.sk-estimator:hover {background-color: #d4ebff;}#sk-container-id-4 div.sk-parallel-item::after {content: \"\";width: 100%;border-bottom: 1px solid gray;flex-grow: 1;}#sk-container-id-4 div.sk-label:hover label.sk-toggleable__label {background-color: #d4ebff;}#sk-container-id-4 div.sk-serial::before {content: \"\";position: absolute;border-left: 1px solid gray;box-sizing: border-box;top: 0;bottom: 0;left: 50%;z-index: 0;}#sk-container-id-4 div.sk-serial {display: flex;flex-direction: column;align-items: center;background-color: white;padding-right: 0.2em;padding-left: 0.2em;position: relative;}#sk-container-id-4 div.sk-item {position: relative;z-index: 1;}#sk-container-id-4 div.sk-parallel {display: flex;align-items: stretch;justify-content: center;background-color: white;position: relative;}#sk-container-id-4 div.sk-item::before, #sk-container-id-4 div.sk-parallel-item::before {content: \"\";position: absolute;border-left: 1px solid gray;box-sizing: border-box;top: 0;bottom: 0;left: 50%;z-index: -1;}#sk-container-id-4 div.sk-parallel-item {display: flex;flex-direction: column;z-index: 1;position: relative;background-color: white;}#sk-container-id-4 div.sk-parallel-item:first-child::after {align-self: flex-end;width: 50%;}#sk-container-id-4 div.sk-parallel-item:last-child::after {align-self: flex-start;width: 50%;}#sk-container-id-4 div.sk-parallel-item:only-child::after {width: 0;}#sk-container-id-4 div.sk-dashed-wrapped {border: 1px dashed gray;margin: 0 0.4em 0.5em 0.4em;box-sizing: border-box;padding-bottom: 0.4em;background-color: white;}#sk-container-id-4 div.sk-label label {font-family: monospace;font-weight: bold;display: inline-block;line-height: 1.2em;}#sk-container-id-4 div.sk-label-container {text-align: center;}#sk-container-id-4 div.sk-container {/* jupyter's `normalize.less` sets `[hidden] { display: none; }` but bootstrap.min.css set `[hidden] { display: none !important; }` so we also need the `!important` here to be able to override the default hidden behavior on the sphinx rendered scikit-learn.org. See: https://github.com/scikit-learn/scikit-learn/issues/21755 */display: inline-block !important;position: relative;}#sk-container-id-4 div.sk-text-repr-fallback {display: none;}</style><div id=\"sk-container-id-4\" class=\"sk-top-container\"><div class=\"sk-text-repr-fallback\"><pre>DecisionTreeClassifier()</pre><b>In a Jupyter environment, please rerun this cell to show the HTML representation or trust the notebook. <br />On GitHub, the HTML representation is unable to render, please try loading this page with nbviewer.org.</b></div><div class=\"sk-container\" hidden><div class=\"sk-item\"><div class=\"sk-estimator sk-toggleable\"><input class=\"sk-toggleable__control sk-hidden--visually\" id=\"sk-estimator-id-4\" type=\"checkbox\" checked><label for=\"sk-estimator-id-4\" class=\"sk-toggleable__label sk-toggleable__label-arrow\">DecisionTreeClassifier</label><div class=\"sk-toggleable__content\"><pre>DecisionTreeClassifier()</pre></div></div></div></div></div>"
     },
     "execution_count": 43,
     "metadata": {},
     "output_type": "execute_result"
    }
   ],
   "source": [
    "model.fit(x_train,y_train)"
   ],
   "metadata": {
    "collapsed": false,
    "ExecuteTime": {
     "end_time": "2023-06-15T01:18:14.374060Z",
     "start_time": "2023-06-15T01:18:14.333196Z"
    }
   }
  },
  {
   "cell_type": "code",
   "execution_count": 44,
   "outputs": [
    {
     "data": {
      "text/plain": "array(['14-35-14', '17-17-17', 'Urea', '14-35-14', 'Urea', 'DAP', 'Urea',\n       '20-20', 'Urea', '20-20', '28-28', '17-17-17', '28-28', '20-20',\n       'DAP', 'Urea', '17-17-17', '28-28', 'Urea', '14-35-14'],\n      dtype=object)"
     },
     "execution_count": 44,
     "metadata": {},
     "output_type": "execute_result"
    }
   ],
   "source": [
    "prediction = model.predict(x_test)\n",
    "prediction"
   ],
   "metadata": {
    "collapsed": false,
    "ExecuteTime": {
     "end_time": "2023-06-15T01:18:14.401901Z",
     "start_time": "2023-06-15T01:18:14.345883Z"
    }
   }
  },
  {
   "cell_type": "code",
   "execution_count": 45,
   "outputs": [],
   "source": [
    "from joblib import dump"
   ],
   "metadata": {
    "collapsed": false,
    "ExecuteTime": {
     "end_time": "2023-06-15T01:18:14.406600Z",
     "start_time": "2023-06-15T01:18:14.348465Z"
    }
   }
  },
  {
   "cell_type": "code",
   "execution_count": 46,
   "outputs": [
    {
     "data": {
      "text/plain": "['./../savedModels/fertilizer_model.joblib']"
     },
     "execution_count": 46,
     "metadata": {},
     "output_type": "execute_result"
    }
   ],
   "source": [
    "dump(model, './../savedModels/fertilizer_model.joblib')"
   ],
   "metadata": {
    "collapsed": false,
    "ExecuteTime": {
     "end_time": "2023-06-15T01:18:14.406997Z",
     "start_time": "2023-06-15T01:18:14.352829Z"
    }
   }
  },
  {
   "cell_type": "code",
   "execution_count": 46,
   "outputs": [],
   "source": [],
   "metadata": {
    "collapsed": false,
    "ExecuteTime": {
     "end_time": "2023-06-15T01:18:14.407104Z",
     "start_time": "2023-06-15T01:18:14.360848Z"
    }
   }
  }
 ],
 "metadata": {
  "kernelspec": {
   "display_name": "Python 3",
   "language": "python",
   "name": "python3"
  },
  "language_info": {
   "codemirror_mode": {
    "name": "ipython",
    "version": 2
   },
   "file_extension": ".py",
   "mimetype": "text/x-python",
   "name": "python",
   "nbconvert_exporter": "python",
   "pygments_lexer": "ipython2",
   "version": "2.7.6"
  }
 },
 "nbformat": 4,
 "nbformat_minor": 0
}

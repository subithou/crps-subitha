{
 "cells": [
  {
   "cell_type": "code",
   "execution_count": 19,
   "metadata": {
    "collapsed": true,
    "ExecuteTime": {
     "end_time": "2023-06-15T18:15:32.350836Z",
     "start_time": "2023-06-15T18:15:32.349547Z"
    }
   },
   "outputs": [],
   "source": [
    "import numpy as np\n",
    "import matplotlib.pyplot as plt\n",
    "import pandas as pd\n",
    "import matplotlib.pyplot as plt\n",
    "\n",
    "from sklearn.metrics import r2_score"
   ]
  },
  {
   "cell_type": "code",
   "execution_count": 20,
   "outputs": [],
   "source": [
    "dataset2013= pd.read_csv('../data/wheat-2013-supervised.csv')\n",
    "dataset2014 = pd.read_csv('../data/wheat-2014-supervised.csv')\n",
    "\n",
    "#merging the datas to create a single dataset\n",
    "dataset = pd.concat([dataset2013, dataset2014],axis=0)\n"
   ],
   "metadata": {
    "collapsed": false,
    "ExecuteTime": {
     "end_time": "2023-06-15T18:16:10.124183Z",
     "start_time": "2023-06-15T18:16:09.615440Z"
    }
   }
  },
  {
   "cell_type": "code",
   "execution_count": 21,
   "outputs": [
    {
     "name": "stdout",
     "output_type": "stream",
     "text": [
      "(177493, 26)\n",
      "(182549, 26)\n",
      "(360042, 26)\n"
     ]
    }
   ],
   "source": [
    "print(dataset2013.shape)\n",
    "print(dataset2014.shape)\n",
    "print(dataset.shape)"
   ],
   "metadata": {
    "collapsed": false,
    "ExecuteTime": {
     "end_time": "2023-06-15T18:16:22.753318Z",
     "start_time": "2023-06-15T18:16:22.743586Z"
    }
   }
  },
  {
   "cell_type": "code",
   "execution_count": 22,
   "outputs": [
    {
     "data": {
      "text/plain": "  CountyName       State   Latitude   Longitude             Date  \\\n0      Adams  Washington  46.811686 -118.695237  11/30/2013 0:00   \n1      Adams  Washington  46.929839 -118.352109  11/30/2013 0:00   \n2      Adams  Washington  47.006888 -118.510160  11/30/2013 0:00   \n3      Adams  Washington  47.162342 -118.699677  11/30/2013 0:00   \n4      Adams  Washington  47.157512 -118.434056  11/30/2013 0:00   \n\n   apparentTemperatureMax  apparentTemperatureMin  cloudCover  dewPoint  \\\n0                   35.70                   20.85        0.00     29.53   \n1                   35.10                   26.92        0.00     29.77   \n2                   33.38                   26.95        0.00     29.36   \n3                   28.05                   25.93        0.91     29.47   \n4                   28.83                   25.98        0.91     29.86   \n\n   humidity  ...  precipTypeIsOther  pressure  temperatureMax  temperatureMin  \\\n0      0.91  ...                  0   1027.13           35.70           27.48   \n1      0.93  ...                  0   1026.87           35.10           26.92   \n2      0.94  ...                  0   1026.88           33.38           26.95   \n3      0.94  ...                  0   1026.37           33.19           27.17   \n4      0.94  ...                  0   1026.19           33.85           27.07   \n\n   visibility  windBearing  windSpeed        NDVI  DayInSeason  Yield  \n0        2.46          214       1.18  134.110657            0   35.7  \n1        2.83          166       1.01  131.506592            0   35.7  \n2        2.95          158       1.03  131.472946            0   35.7  \n3        2.89          153       1.84  131.288300            0   35.7  \n4        2.97          156       1.85  131.288300            0   35.7  \n\n[5 rows x 26 columns]",
      "text/html": "<div>\n<style scoped>\n    .dataframe tbody tr th:only-of-type {\n        vertical-align: middle;\n    }\n\n    .dataframe tbody tr th {\n        vertical-align: top;\n    }\n\n    .dataframe thead th {\n        text-align: right;\n    }\n</style>\n<table border=\"1\" class=\"dataframe\">\n  <thead>\n    <tr style=\"text-align: right;\">\n      <th></th>\n      <th>CountyName</th>\n      <th>State</th>\n      <th>Latitude</th>\n      <th>Longitude</th>\n      <th>Date</th>\n      <th>apparentTemperatureMax</th>\n      <th>apparentTemperatureMin</th>\n      <th>cloudCover</th>\n      <th>dewPoint</th>\n      <th>humidity</th>\n      <th>...</th>\n      <th>precipTypeIsOther</th>\n      <th>pressure</th>\n      <th>temperatureMax</th>\n      <th>temperatureMin</th>\n      <th>visibility</th>\n      <th>windBearing</th>\n      <th>windSpeed</th>\n      <th>NDVI</th>\n      <th>DayInSeason</th>\n      <th>Yield</th>\n    </tr>\n  </thead>\n  <tbody>\n    <tr>\n      <th>0</th>\n      <td>Adams</td>\n      <td>Washington</td>\n      <td>46.811686</td>\n      <td>-118.695237</td>\n      <td>11/30/2013 0:00</td>\n      <td>35.70</td>\n      <td>20.85</td>\n      <td>0.00</td>\n      <td>29.53</td>\n      <td>0.91</td>\n      <td>...</td>\n      <td>0</td>\n      <td>1027.13</td>\n      <td>35.70</td>\n      <td>27.48</td>\n      <td>2.46</td>\n      <td>214</td>\n      <td>1.18</td>\n      <td>134.110657</td>\n      <td>0</td>\n      <td>35.7</td>\n    </tr>\n    <tr>\n      <th>1</th>\n      <td>Adams</td>\n      <td>Washington</td>\n      <td>46.929839</td>\n      <td>-118.352109</td>\n      <td>11/30/2013 0:00</td>\n      <td>35.10</td>\n      <td>26.92</td>\n      <td>0.00</td>\n      <td>29.77</td>\n      <td>0.93</td>\n      <td>...</td>\n      <td>0</td>\n      <td>1026.87</td>\n      <td>35.10</td>\n      <td>26.92</td>\n      <td>2.83</td>\n      <td>166</td>\n      <td>1.01</td>\n      <td>131.506592</td>\n      <td>0</td>\n      <td>35.7</td>\n    </tr>\n    <tr>\n      <th>2</th>\n      <td>Adams</td>\n      <td>Washington</td>\n      <td>47.006888</td>\n      <td>-118.510160</td>\n      <td>11/30/2013 0:00</td>\n      <td>33.38</td>\n      <td>26.95</td>\n      <td>0.00</td>\n      <td>29.36</td>\n      <td>0.94</td>\n      <td>...</td>\n      <td>0</td>\n      <td>1026.88</td>\n      <td>33.38</td>\n      <td>26.95</td>\n      <td>2.95</td>\n      <td>158</td>\n      <td>1.03</td>\n      <td>131.472946</td>\n      <td>0</td>\n      <td>35.7</td>\n    </tr>\n    <tr>\n      <th>3</th>\n      <td>Adams</td>\n      <td>Washington</td>\n      <td>47.162342</td>\n      <td>-118.699677</td>\n      <td>11/30/2013 0:00</td>\n      <td>28.05</td>\n      <td>25.93</td>\n      <td>0.91</td>\n      <td>29.47</td>\n      <td>0.94</td>\n      <td>...</td>\n      <td>0</td>\n      <td>1026.37</td>\n      <td>33.19</td>\n      <td>27.17</td>\n      <td>2.89</td>\n      <td>153</td>\n      <td>1.84</td>\n      <td>131.288300</td>\n      <td>0</td>\n      <td>35.7</td>\n    </tr>\n    <tr>\n      <th>4</th>\n      <td>Adams</td>\n      <td>Washington</td>\n      <td>47.157512</td>\n      <td>-118.434056</td>\n      <td>11/30/2013 0:00</td>\n      <td>28.83</td>\n      <td>25.98</td>\n      <td>0.91</td>\n      <td>29.86</td>\n      <td>0.94</td>\n      <td>...</td>\n      <td>0</td>\n      <td>1026.19</td>\n      <td>33.85</td>\n      <td>27.07</td>\n      <td>2.97</td>\n      <td>156</td>\n      <td>1.85</td>\n      <td>131.288300</td>\n      <td>0</td>\n      <td>35.7</td>\n    </tr>\n  </tbody>\n</table>\n<p>5 rows × 26 columns</p>\n</div>"
     },
     "execution_count": 22,
     "metadata": {},
     "output_type": "execute_result"
    }
   ],
   "source": [
    "dataset.head()"
   ],
   "metadata": {
    "collapsed": false,
    "ExecuteTime": {
     "end_time": "2023-06-15T18:16:34.287726Z",
     "start_time": "2023-06-15T18:16:34.268915Z"
    }
   }
  },
  {
   "cell_type": "code",
   "execution_count": 23,
   "outputs": [
    {
     "data": {
      "text/plain": "            Latitude      Longitude  apparentTemperatureMax  \\\ncount  360042.000000  360042.000000           360042.000000   \nmean       37.247296    -100.710146               56.007530   \nstd         4.930159       5.776731               22.101277   \nmin        27.363741    -120.914093              -39.970000   \n25%        33.898188    -101.249768               39.640000   \n50%        36.508221     -99.108600               60.230000   \n75%        38.761695     -97.309181               73.020000   \nmax        48.981928     -94.164602              177.320000   \n\n       apparentTemperatureMin     cloudCover       dewPoint       humidity  \\\ncount           360042.000000  360042.000000  360042.000000  360042.000000   \nmean                30.832834       0.101798      33.237347       0.637762   \nstd                 21.053908       0.158358      16.807035       0.162896   \nmin                -58.420000       0.000000     -36.090000       0.080000   \n25%                 17.420000       0.000000      22.300000       0.520000   \n50%                 29.930000       0.040000      31.250000       0.640000   \n75%                 45.610000       0.140000      44.590000       0.760000   \nmax                 79.560000       1.000000      78.350000       1.000000   \n\n       precipIntensity  precipIntensityMax  precipProbability  ...  \\\ncount    360041.000000       360041.000000      360041.000000  ...   \nmean          0.001839            0.016087           0.170108  ...   \nstd           0.006100            0.059991           0.284588  ...   \nmin           0.000000            0.000000           0.000000  ...   \n25%           0.000000            0.000000           0.000000  ...   \n50%           0.000000            0.000000           0.000000  ...   \n75%           0.000500            0.005600           0.250000  ...   \nmax           0.255800            3.367400           0.970000  ...   \n\n       precipTypeIsOther       pressure  temperatureMax  temperatureMin  \\\ncount           360042.0  359437.000000   360042.000000   360042.000000   \nmean                 0.0    1017.940465       58.278807       36.606141   \nstd                  0.0       8.229700       19.143224       16.928982   \nmin                  0.0     942.490000      -22.000000      -39.790000   \n25%                  0.0    1012.260000       44.720000       25.810000   \n50%                  0.0    1017.530000       60.230000       35.930000   \n75%                  0.0    1023.390000       73.020000       48.620000   \nmax                  0.0    1049.530000      105.200000       79.560000   \n\n          visibility    windBearing      windSpeed           NDVI  \\\ncount  359996.000000  360042.000000  360042.000000  360042.000000   \nmean        9.162223     181.310244       8.010297     146.112990   \nstd         1.387730     103.863570       4.448867      10.237413   \nmin         0.460000       0.000000       0.020000     101.000000   \n25%         8.940000     106.000000       4.620000     137.042152   \n50%         9.830000     181.000000       7.350000     146.911461   \n75%        10.000000     261.000000      10.800000     153.065186   \nmax        10.000000     359.000000      31.730000     208.000000   \n\n         DayInSeason          Yield  \ncount  360042.000000  360042.000000  \nmean       92.643111      32.656495  \nstd        53.621134      13.146621  \nmin         0.000000       9.000000  \n25%        46.000000      23.000000  \n50%        93.000000      32.000000  \n75%       139.000000      42.200000  \nmax       185.000000      78.000000  \n\n[8 rows x 23 columns]",
      "text/html": "<div>\n<style scoped>\n    .dataframe tbody tr th:only-of-type {\n        vertical-align: middle;\n    }\n\n    .dataframe tbody tr th {\n        vertical-align: top;\n    }\n\n    .dataframe thead th {\n        text-align: right;\n    }\n</style>\n<table border=\"1\" class=\"dataframe\">\n  <thead>\n    <tr style=\"text-align: right;\">\n      <th></th>\n      <th>Latitude</th>\n      <th>Longitude</th>\n      <th>apparentTemperatureMax</th>\n      <th>apparentTemperatureMin</th>\n      <th>cloudCover</th>\n      <th>dewPoint</th>\n      <th>humidity</th>\n      <th>precipIntensity</th>\n      <th>precipIntensityMax</th>\n      <th>precipProbability</th>\n      <th>...</th>\n      <th>precipTypeIsOther</th>\n      <th>pressure</th>\n      <th>temperatureMax</th>\n      <th>temperatureMin</th>\n      <th>visibility</th>\n      <th>windBearing</th>\n      <th>windSpeed</th>\n      <th>NDVI</th>\n      <th>DayInSeason</th>\n      <th>Yield</th>\n    </tr>\n  </thead>\n  <tbody>\n    <tr>\n      <th>count</th>\n      <td>360042.000000</td>\n      <td>360042.000000</td>\n      <td>360042.000000</td>\n      <td>360042.000000</td>\n      <td>360042.000000</td>\n      <td>360042.000000</td>\n      <td>360042.000000</td>\n      <td>360041.000000</td>\n      <td>360041.000000</td>\n      <td>360041.000000</td>\n      <td>...</td>\n      <td>360042.0</td>\n      <td>359437.000000</td>\n      <td>360042.000000</td>\n      <td>360042.000000</td>\n      <td>359996.000000</td>\n      <td>360042.000000</td>\n      <td>360042.000000</td>\n      <td>360042.000000</td>\n      <td>360042.000000</td>\n      <td>360042.000000</td>\n    </tr>\n    <tr>\n      <th>mean</th>\n      <td>37.247296</td>\n      <td>-100.710146</td>\n      <td>56.007530</td>\n      <td>30.832834</td>\n      <td>0.101798</td>\n      <td>33.237347</td>\n      <td>0.637762</td>\n      <td>0.001839</td>\n      <td>0.016087</td>\n      <td>0.170108</td>\n      <td>...</td>\n      <td>0.0</td>\n      <td>1017.940465</td>\n      <td>58.278807</td>\n      <td>36.606141</td>\n      <td>9.162223</td>\n      <td>181.310244</td>\n      <td>8.010297</td>\n      <td>146.112990</td>\n      <td>92.643111</td>\n      <td>32.656495</td>\n    </tr>\n    <tr>\n      <th>std</th>\n      <td>4.930159</td>\n      <td>5.776731</td>\n      <td>22.101277</td>\n      <td>21.053908</td>\n      <td>0.158358</td>\n      <td>16.807035</td>\n      <td>0.162896</td>\n      <td>0.006100</td>\n      <td>0.059991</td>\n      <td>0.284588</td>\n      <td>...</td>\n      <td>0.0</td>\n      <td>8.229700</td>\n      <td>19.143224</td>\n      <td>16.928982</td>\n      <td>1.387730</td>\n      <td>103.863570</td>\n      <td>4.448867</td>\n      <td>10.237413</td>\n      <td>53.621134</td>\n      <td>13.146621</td>\n    </tr>\n    <tr>\n      <th>min</th>\n      <td>27.363741</td>\n      <td>-120.914093</td>\n      <td>-39.970000</td>\n      <td>-58.420000</td>\n      <td>0.000000</td>\n      <td>-36.090000</td>\n      <td>0.080000</td>\n      <td>0.000000</td>\n      <td>0.000000</td>\n      <td>0.000000</td>\n      <td>...</td>\n      <td>0.0</td>\n      <td>942.490000</td>\n      <td>-22.000000</td>\n      <td>-39.790000</td>\n      <td>0.460000</td>\n      <td>0.000000</td>\n      <td>0.020000</td>\n      <td>101.000000</td>\n      <td>0.000000</td>\n      <td>9.000000</td>\n    </tr>\n    <tr>\n      <th>25%</th>\n      <td>33.898188</td>\n      <td>-101.249768</td>\n      <td>39.640000</td>\n      <td>17.420000</td>\n      <td>0.000000</td>\n      <td>22.300000</td>\n      <td>0.520000</td>\n      <td>0.000000</td>\n      <td>0.000000</td>\n      <td>0.000000</td>\n      <td>...</td>\n      <td>0.0</td>\n      <td>1012.260000</td>\n      <td>44.720000</td>\n      <td>25.810000</td>\n      <td>8.940000</td>\n      <td>106.000000</td>\n      <td>4.620000</td>\n      <td>137.042152</td>\n      <td>46.000000</td>\n      <td>23.000000</td>\n    </tr>\n    <tr>\n      <th>50%</th>\n      <td>36.508221</td>\n      <td>-99.108600</td>\n      <td>60.230000</td>\n      <td>29.930000</td>\n      <td>0.040000</td>\n      <td>31.250000</td>\n      <td>0.640000</td>\n      <td>0.000000</td>\n      <td>0.000000</td>\n      <td>0.000000</td>\n      <td>...</td>\n      <td>0.0</td>\n      <td>1017.530000</td>\n      <td>60.230000</td>\n      <td>35.930000</td>\n      <td>9.830000</td>\n      <td>181.000000</td>\n      <td>7.350000</td>\n      <td>146.911461</td>\n      <td>93.000000</td>\n      <td>32.000000</td>\n    </tr>\n    <tr>\n      <th>75%</th>\n      <td>38.761695</td>\n      <td>-97.309181</td>\n      <td>73.020000</td>\n      <td>45.610000</td>\n      <td>0.140000</td>\n      <td>44.590000</td>\n      <td>0.760000</td>\n      <td>0.000500</td>\n      <td>0.005600</td>\n      <td>0.250000</td>\n      <td>...</td>\n      <td>0.0</td>\n      <td>1023.390000</td>\n      <td>73.020000</td>\n      <td>48.620000</td>\n      <td>10.000000</td>\n      <td>261.000000</td>\n      <td>10.800000</td>\n      <td>153.065186</td>\n      <td>139.000000</td>\n      <td>42.200000</td>\n    </tr>\n    <tr>\n      <th>max</th>\n      <td>48.981928</td>\n      <td>-94.164602</td>\n      <td>177.320000</td>\n      <td>79.560000</td>\n      <td>1.000000</td>\n      <td>78.350000</td>\n      <td>1.000000</td>\n      <td>0.255800</td>\n      <td>3.367400</td>\n      <td>0.970000</td>\n      <td>...</td>\n      <td>0.0</td>\n      <td>1049.530000</td>\n      <td>105.200000</td>\n      <td>79.560000</td>\n      <td>10.000000</td>\n      <td>359.000000</td>\n      <td>31.730000</td>\n      <td>208.000000</td>\n      <td>185.000000</td>\n      <td>78.000000</td>\n    </tr>\n  </tbody>\n</table>\n<p>8 rows × 23 columns</p>\n</div>"
     },
     "execution_count": 23,
     "metadata": {},
     "output_type": "execute_result"
    }
   ],
   "source": [
    "dataset.describe()"
   ],
   "metadata": {
    "collapsed": false,
    "ExecuteTime": {
     "end_time": "2023-06-15T18:16:46.491674Z",
     "start_time": "2023-06-15T18:16:46.186496Z"
    }
   }
  },
  {
   "cell_type": "code",
   "execution_count": 24,
   "outputs": [],
   "source": [
    "# Removing Columns which will not contribute to predicting Yield\n",
    "total_data1 = dataset.drop(['CountyName','State','Latitude','Longitude','Date'],axis=1)"
   ],
   "metadata": {
    "collapsed": false,
    "ExecuteTime": {
     "end_time": "2023-06-15T18:16:59.040169Z",
     "start_time": "2023-06-15T18:16:58.989839Z"
    }
   }
  },
  {
   "cell_type": "code",
   "execution_count": 25,
   "outputs": [],
   "source": [
    "# Deleting the rows which have empty features\n",
    "total_data2 = total_data1.dropna(axis = 0)"
   ],
   "metadata": {
    "collapsed": false,
    "ExecuteTime": {
     "end_time": "2023-06-15T18:17:08.871892Z",
     "start_time": "2023-06-15T18:17:08.810074Z"
    }
   }
  },
  {
   "cell_type": "code",
   "execution_count": 26,
   "outputs": [
    {
     "name": "stdout",
     "output_type": "stream",
     "text": [
      "0         35.7\n",
      "1         35.7\n",
      "2         35.7\n",
      "3         35.7\n",
      "4         35.7\n",
      "          ... \n",
      "182544    50.1\n",
      "182545    50.1\n",
      "182546    50.1\n",
      "182547    50.1\n",
      "182548    50.1\n",
      "Name: Yield, Length: 359427, dtype: float64\n"
     ]
    }
   ],
   "source": [
    "# Yield data\n",
    "print(total_data2['Yield'])"
   ],
   "metadata": {
    "collapsed": false,
    "ExecuteTime": {
     "end_time": "2023-06-15T18:17:23.966439Z",
     "start_time": "2023-06-15T18:17:23.937455Z"
    }
   }
  },
  {
   "cell_type": "code",
   "execution_count": 27,
   "outputs": [],
   "source": [
    "# Importing the library for splitting the data into Training and Testring sets\n",
    "from sklearn.model_selection import train_test_split"
   ],
   "metadata": {
    "collapsed": false,
    "ExecuteTime": {
     "end_time": "2023-06-15T18:17:34.010168Z",
     "start_time": "2023-06-15T18:17:34.003882Z"
    }
   }
  },
  {
   "cell_type": "code",
   "execution_count": 28,
   "outputs": [],
   "source": [
    "# Splitting data to Train set and Test set\n",
    "y = total_data2['Yield']\n",
    "X = total_data2.drop(['Yield'],axis=1)\n",
    "X_train, X_test, y_train, y_test = train_test_split(X, y, test_size=0.3, random_state=42)\n"
   ],
   "metadata": {
    "collapsed": false,
    "ExecuteTime": {
     "end_time": "2023-06-15T18:17:42.533456Z",
     "start_time": "2023-06-15T18:17:42.481270Z"
    }
   }
  },
  {
   "cell_type": "code",
   "execution_count": 29,
   "outputs": [
    {
     "name": "stdout",
     "output_type": "stream",
     "text": [
      "['apparentTemperatureMax', 'apparentTemperatureMin', 'cloudCover', 'dewPoint', 'humidity', 'precipIntensity', 'precipIntensityMax', 'precipProbability', 'precipAccumulation', 'precipTypeIsRain', 'precipTypeIsSnow', 'precipTypeIsOther', 'pressure', 'temperatureMax', 'temperatureMin', 'visibility', 'windBearing', 'windSpeed', 'NDVI', 'DayInSeason']\n"
     ]
    }
   ],
   "source": [
    "# Scaling the values\n",
    "\n",
    "from sklearn import preprocessing\n",
    "columns_to_scale = total_data2.columns.tolist()\n",
    "columns_to_scale = [x for x in columns_to_scale if x != 'Yield']\n",
    "print(columns_to_scale)\n",
    "\n",
    "std_scaler = preprocessing.StandardScaler().fit(X_train[columns_to_scale])\n",
    "minmax_scaler = preprocessing.MinMaxScaler().fit(X_train[columns_to_scale])\n",
    "\n",
    "X_train[columns_to_scale] = std_scaler.transform(X_train[columns_to_scale])\n",
    "\n",
    "X_test[columns_to_scale] = std_scaler.transform(X_test[columns_to_scale])"
   ],
   "metadata": {
    "collapsed": false,
    "ExecuteTime": {
     "end_time": "2023-06-15T18:17:50.229158Z",
     "start_time": "2023-06-15T18:17:50.089058Z"
    }
   }
  },
  {
   "cell_type": "code",
   "execution_count": 30,
   "outputs": [
    {
     "data": {
      "text/plain": "(        apparentTemperatureMax  apparentTemperatureMin  cloudCover  dewPoint  \\\n 0                        35.70                   20.85        0.00     29.53   \n 1                        35.10                   26.92        0.00     29.77   \n 2                        33.38                   26.95        0.00     29.36   \n 3                        28.05                   25.93        0.91     29.47   \n 4                        28.83                   25.98        0.91     29.86   \n ...                        ...                     ...         ...       ...   \n 182544                   75.44                   64.29        0.13     62.74   \n 182545                   75.47                   64.49        0.13     62.83   \n 182546                   75.40                   64.43        0.13     62.77   \n 182547                   75.35                   64.44        0.13     62.74   \n 182548                   75.27                   64.57        0.13     62.72   \n \n         humidity  precipIntensity  precipIntensityMax  precipProbability  \\\n 0           0.91           0.0000              0.0000               0.00   \n 1           0.93           0.0001              0.0019               0.05   \n 2           0.94           0.0001              0.0022               0.06   \n 3           0.94           0.0002              0.0039               0.15   \n 4           0.94           0.0003              0.0055               0.24   \n ...          ...              ...                 ...                ...   \n 182544      0.84           0.0211              0.2280               0.86   \n 182545      0.84           0.0206              0.2074               0.85   \n 182546      0.84           0.0212              0.2172               0.86   \n 182547      0.84           0.0214              0.2177               0.86   \n 182548      0.84           0.0214              0.2077               0.85   \n \n         precipAccumulation  precipTypeIsRain  precipTypeIsSnow  \\\n 0                    0.000               0.0               0.0   \n 1                    0.000               1.0               0.0   \n 2                    0.020               0.0               1.0   \n 3                    0.036               0.0               1.0   \n 4                    0.000               1.0               0.0   \n ...                    ...               ...               ...   \n 182544               0.000               1.0               0.0   \n 182545               0.000               1.0               0.0   \n 182546               0.000               1.0               0.0   \n 182547               0.000               1.0               0.0   \n 182548               0.000               1.0               0.0   \n \n         precipTypeIsOther  pressure  temperatureMax  temperatureMin  \\\n 0                     0.0   1027.13           35.70           27.48   \n 1                     0.0   1026.87           35.10           26.92   \n 2                     0.0   1026.88           33.38           26.95   \n 3                     0.0   1026.37           33.19           27.17   \n 4                     0.0   1026.19           33.85           27.07   \n ...                   ...       ...             ...             ...   \n 182544                0.0   1013.01           75.44           64.29   \n 182545                0.0   1012.99           75.47           64.49   \n 182546                0.0   1013.01           75.40           64.43   \n 182547                0.0   1013.01           75.35           64.44   \n 182548                0.0   1013.00           75.27           64.57   \n \n         visibility  windBearing  windSpeed        NDVI  DayInSeason  \n 0             2.46        214.0       1.18  134.110657          0.0  \n 1             2.83        166.0       1.01  131.506592          0.0  \n 2             2.95        158.0       1.03  131.472946          0.0  \n 3             2.89        153.0       1.84  131.288300          0.0  \n 4             2.97        156.0       1.85  131.288300          0.0  \n ...            ...          ...        ...         ...          ...  \n 182544        9.31        133.0       6.26  134.803101        185.0  \n 182545        9.29        132.0       6.29  133.913879        185.0  \n 182546        9.28        132.0       6.27  129.938950        185.0  \n 182547        9.28        132.0       6.26  129.938950        185.0  \n 182548        9.26        132.0       6.23  129.784332        185.0  \n \n [359427 rows x 20 columns],\n 0         35.7\n 1         35.7\n 2         35.7\n 3         35.7\n 4         35.7\n           ... \n 182544    50.1\n 182545    50.1\n 182546    50.1\n 182547    50.1\n 182548    50.1\n Name: Yield, Length: 359427, dtype: float64)"
     },
     "execution_count": 30,
     "metadata": {},
     "output_type": "execute_result"
    }
   ],
   "source": [
    "# Converting the features to float data type\n",
    "X.astype(float),y.astype(float)"
   ],
   "metadata": {
    "collapsed": false,
    "ExecuteTime": {
     "end_time": "2023-06-15T18:18:00.287276Z",
     "start_time": "2023-06-15T18:18:00.237126Z"
    }
   }
  },
  {
   "cell_type": "markdown",
   "source": [
    "Random Forest\n"
   ],
   "metadata": {
    "collapsed": false
   }
  },
  {
   "cell_type": "code",
   "execution_count": 31,
   "outputs": [],
   "source": [
    "# Importing the Library\n",
    "from sklearn.ensemble import RandomForestRegressor"
   ],
   "metadata": {
    "collapsed": false,
    "ExecuteTime": {
     "end_time": "2023-06-15T18:18:49.263433Z",
     "start_time": "2023-06-15T18:18:49.238555Z"
    }
   }
  },
  {
   "cell_type": "code",
   "execution_count": 32,
   "outputs": [],
   "source": [
    "# instantiating the model\n",
    "rfregressor = RandomForestRegressor(n_estimators=100, random_state = 42)\n",
    "model=rfregressor.fit(X_train, y_train)"
   ],
   "metadata": {
    "collapsed": false,
    "ExecuteTime": {
     "end_time": "2023-06-15T18:23:06.060906Z",
     "start_time": "2023-06-15T18:18:50.911689Z"
    }
   }
  },
  {
   "cell_type": "code",
   "execution_count": 33,
   "outputs": [],
   "source": [
    "# Predicting Test Set\n",
    "y_pred = model.predict(X_test)"
   ],
   "metadata": {
    "collapsed": false,
    "ExecuteTime": {
     "end_time": "2023-06-15T18:23:41.889996Z",
     "start_time": "2023-06-15T18:23:37.778085Z"
    }
   }
  },
  {
   "cell_type": "code",
   "execution_count": 34,
   "outputs": [
    {
     "name": "stdout",
     "output_type": "stream",
     "text": [
      "[39.496 34.673 29.515 ... 33.834 45.137 30.807]\n"
     ]
    }
   ],
   "source": [
    "# Print predocted values\n",
    "print(y_pred)"
   ],
   "metadata": {
    "collapsed": false,
    "ExecuteTime": {
     "end_time": "2023-06-15T18:23:55.522645Z",
     "start_time": "2023-06-15T18:23:55.489118Z"
    }
   }
  },
  {
   "cell_type": "code",
   "execution_count": 35,
   "outputs": [],
   "source": [
    "from joblib import dump"
   ],
   "metadata": {
    "collapsed": false,
    "ExecuteTime": {
     "end_time": "2023-06-15T18:24:22.666344Z",
     "start_time": "2023-06-15T18:24:22.653057Z"
    }
   }
  },
  {
   "cell_type": "code",
   "execution_count": 36,
   "outputs": [
    {
     "data": {
      "text/plain": "['./../savedModels/yield_model.joblib']"
     },
     "execution_count": 36,
     "metadata": {},
     "output_type": "execute_result"
    }
   ],
   "source": [
    "dump(model, './../savedModels/yield_model.joblib')"
   ],
   "metadata": {
    "collapsed": false,
    "ExecuteTime": {
     "end_time": "2023-06-15T18:24:48.835265Z",
     "start_time": "2023-06-15T18:24:47.513905Z"
    }
   }
  },
  {
   "cell_type": "code",
   "execution_count": 37,
   "outputs": [
    {
     "data": {
      "text/plain": "        apparentTemperatureMax  apparentTemperatureMin  cloudCover  dewPoint  \\\n57791                -0.550458               -0.398095   -0.076138 -0.351164   \n65063                -0.083734                0.477694   -0.390865  0.714067   \n40816                -1.205589               -1.140096    0.049752 -1.155437   \n86946                -0.504373               -0.897190    1.812221  0.471537   \n15105                 0.490522               -0.268577   -0.642646 -0.579428   \n...                        ...                     ...         ...       ...   \n35002                -2.237082               -1.950414   -0.264974 -2.015588   \n102362                0.378924               -0.058407   -0.642646 -0.562189   \n8931                 -1.701230               -1.803816   -0.264974 -1.898484   \n135352                0.860107                1.009998    0.427424  1.237766   \n168204                0.937367                1.213527   -0.202029  0.989886   \n\n        humidity  precipIntensity  precipIntensityMax  precipProbability  \\\n57791  -0.171823        -0.299864           -0.265183          -0.598225   \n65063   1.548801        -0.267190           -0.171099           0.315747   \n40816  -0.356175        -0.299864           -0.265183          -0.598225   \n86946   1.733154        -0.299864           -0.265183          -0.598225   \n15105  -1.032135        -0.299864           -0.265183          -0.598225   \n...          ...              ...                 ...                ...   \n35002  -0.233274        -0.299864           -0.265183          -0.598225   \n102362 -1.523742        -0.299864           -0.265183          -0.598225   \n8931    0.135432        -0.283527           -0.235472          -0.457614   \n135352  0.688489        -0.299864           -0.265183          -0.598225   \n168204  0.012530         2.836813            3.451954           2.424914   \n\n        precipAccumulation  precipTypeIsRain  precipTypeIsSnow  \\\n57791            -0.146621         -0.615081         -0.288290   \n65063            -0.146621          1.625802         -0.288290   \n40816            -0.146621         -0.615081         -0.288290   \n86946            -0.146621         -0.615081         -0.288290   \n15105            -0.146621         -0.615081         -0.288290   \n...                    ...               ...               ...   \n35002            -0.146621         -0.615081         -0.288290   \n102362           -0.146621         -0.615081         -0.288290   \n8931             -0.029978         -0.615081          3.468734   \n135352           -0.146621         -0.615081         -0.288290   \n168204           -0.146621          1.625802         -0.288290   \n\n        precipTypeIsOther  pressure  temperatureMax  temperatureMin  \\\n57791                 0.0  0.848021       -0.504591       -0.459630   \n65063                 0.0  0.197517       -0.215981        0.434433   \n40816                 0.0  1.343181       -1.094860       -1.301171   \n86946                 0.0 -0.468764       -0.462839       -0.557593   \n15105                 0.0  0.134409        0.447353       -0.336881   \n...                   ...       ...             ...             ...   \n35002                 0.0  2.117476       -2.175714       -1.795119   \n102362                0.0  0.895353        0.318444        0.018974   \n8931                  0.0  1.277646       -2.084381       -1.842920   \n135352                0.0 -0.153221        0.874267        0.914808   \n168204                0.0 -0.866834        0.963512        1.167978   \n\n        visibility  windBearing  windSpeed      NDVI  DayInSeason  \n57791     0.560609     0.757509  -0.275195 -0.954565    -0.627378  \n65063    -1.347625    -0.522585  -1.496053 -1.144114    -0.496814  \n40816     0.589413    -0.041347   0.028334  0.119945    -0.963116  \n86946    -2.550173    -1.465812   1.080565 -0.775715    -0.030512  \n15105     0.445395     0.959629  -0.455063  0.583868    -1.429417  \n...            ...          ...        ...       ...          ...  \n35002    -0.058667     1.488991   1.031102 -1.440176    -1.075028  \n102362    0.596614    -1.552435  -0.185260  0.383818     0.211964  \n8931      0.589413     1.431242  -0.987924 -0.813775    -1.559982  \n135352   -0.037064    -0.378214  -0.868761  1.428937     0.827482  \n168204    0.481400     0.054901   0.118268  0.954996     1.554913  \n\n[107829 rows x 20 columns]",
      "text/html": "<div>\n<style scoped>\n    .dataframe tbody tr th:only-of-type {\n        vertical-align: middle;\n    }\n\n    .dataframe tbody tr th {\n        vertical-align: top;\n    }\n\n    .dataframe thead th {\n        text-align: right;\n    }\n</style>\n<table border=\"1\" class=\"dataframe\">\n  <thead>\n    <tr style=\"text-align: right;\">\n      <th></th>\n      <th>apparentTemperatureMax</th>\n      <th>apparentTemperatureMin</th>\n      <th>cloudCover</th>\n      <th>dewPoint</th>\n      <th>humidity</th>\n      <th>precipIntensity</th>\n      <th>precipIntensityMax</th>\n      <th>precipProbability</th>\n      <th>precipAccumulation</th>\n      <th>precipTypeIsRain</th>\n      <th>precipTypeIsSnow</th>\n      <th>precipTypeIsOther</th>\n      <th>pressure</th>\n      <th>temperatureMax</th>\n      <th>temperatureMin</th>\n      <th>visibility</th>\n      <th>windBearing</th>\n      <th>windSpeed</th>\n      <th>NDVI</th>\n      <th>DayInSeason</th>\n    </tr>\n  </thead>\n  <tbody>\n    <tr>\n      <th>57791</th>\n      <td>-0.550458</td>\n      <td>-0.398095</td>\n      <td>-0.076138</td>\n      <td>-0.351164</td>\n      <td>-0.171823</td>\n      <td>-0.299864</td>\n      <td>-0.265183</td>\n      <td>-0.598225</td>\n      <td>-0.146621</td>\n      <td>-0.615081</td>\n      <td>-0.288290</td>\n      <td>0.0</td>\n      <td>0.848021</td>\n      <td>-0.504591</td>\n      <td>-0.459630</td>\n      <td>0.560609</td>\n      <td>0.757509</td>\n      <td>-0.275195</td>\n      <td>-0.954565</td>\n      <td>-0.627378</td>\n    </tr>\n    <tr>\n      <th>65063</th>\n      <td>-0.083734</td>\n      <td>0.477694</td>\n      <td>-0.390865</td>\n      <td>0.714067</td>\n      <td>1.548801</td>\n      <td>-0.267190</td>\n      <td>-0.171099</td>\n      <td>0.315747</td>\n      <td>-0.146621</td>\n      <td>1.625802</td>\n      <td>-0.288290</td>\n      <td>0.0</td>\n      <td>0.197517</td>\n      <td>-0.215981</td>\n      <td>0.434433</td>\n      <td>-1.347625</td>\n      <td>-0.522585</td>\n      <td>-1.496053</td>\n      <td>-1.144114</td>\n      <td>-0.496814</td>\n    </tr>\n    <tr>\n      <th>40816</th>\n      <td>-1.205589</td>\n      <td>-1.140096</td>\n      <td>0.049752</td>\n      <td>-1.155437</td>\n      <td>-0.356175</td>\n      <td>-0.299864</td>\n      <td>-0.265183</td>\n      <td>-0.598225</td>\n      <td>-0.146621</td>\n      <td>-0.615081</td>\n      <td>-0.288290</td>\n      <td>0.0</td>\n      <td>1.343181</td>\n      <td>-1.094860</td>\n      <td>-1.301171</td>\n      <td>0.589413</td>\n      <td>-0.041347</td>\n      <td>0.028334</td>\n      <td>0.119945</td>\n      <td>-0.963116</td>\n    </tr>\n    <tr>\n      <th>86946</th>\n      <td>-0.504373</td>\n      <td>-0.897190</td>\n      <td>1.812221</td>\n      <td>0.471537</td>\n      <td>1.733154</td>\n      <td>-0.299864</td>\n      <td>-0.265183</td>\n      <td>-0.598225</td>\n      <td>-0.146621</td>\n      <td>-0.615081</td>\n      <td>-0.288290</td>\n      <td>0.0</td>\n      <td>-0.468764</td>\n      <td>-0.462839</td>\n      <td>-0.557593</td>\n      <td>-2.550173</td>\n      <td>-1.465812</td>\n      <td>1.080565</td>\n      <td>-0.775715</td>\n      <td>-0.030512</td>\n    </tr>\n    <tr>\n      <th>15105</th>\n      <td>0.490522</td>\n      <td>-0.268577</td>\n      <td>-0.642646</td>\n      <td>-0.579428</td>\n      <td>-1.032135</td>\n      <td>-0.299864</td>\n      <td>-0.265183</td>\n      <td>-0.598225</td>\n      <td>-0.146621</td>\n      <td>-0.615081</td>\n      <td>-0.288290</td>\n      <td>0.0</td>\n      <td>0.134409</td>\n      <td>0.447353</td>\n      <td>-0.336881</td>\n      <td>0.445395</td>\n      <td>0.959629</td>\n      <td>-0.455063</td>\n      <td>0.583868</td>\n      <td>-1.429417</td>\n    </tr>\n    <tr>\n      <th>...</th>\n      <td>...</td>\n      <td>...</td>\n      <td>...</td>\n      <td>...</td>\n      <td>...</td>\n      <td>...</td>\n      <td>...</td>\n      <td>...</td>\n      <td>...</td>\n      <td>...</td>\n      <td>...</td>\n      <td>...</td>\n      <td>...</td>\n      <td>...</td>\n      <td>...</td>\n      <td>...</td>\n      <td>...</td>\n      <td>...</td>\n      <td>...</td>\n      <td>...</td>\n    </tr>\n    <tr>\n      <th>35002</th>\n      <td>-2.237082</td>\n      <td>-1.950414</td>\n      <td>-0.264974</td>\n      <td>-2.015588</td>\n      <td>-0.233274</td>\n      <td>-0.299864</td>\n      <td>-0.265183</td>\n      <td>-0.598225</td>\n      <td>-0.146621</td>\n      <td>-0.615081</td>\n      <td>-0.288290</td>\n      <td>0.0</td>\n      <td>2.117476</td>\n      <td>-2.175714</td>\n      <td>-1.795119</td>\n      <td>-0.058667</td>\n      <td>1.488991</td>\n      <td>1.031102</td>\n      <td>-1.440176</td>\n      <td>-1.075028</td>\n    </tr>\n    <tr>\n      <th>102362</th>\n      <td>0.378924</td>\n      <td>-0.058407</td>\n      <td>-0.642646</td>\n      <td>-0.562189</td>\n      <td>-1.523742</td>\n      <td>-0.299864</td>\n      <td>-0.265183</td>\n      <td>-0.598225</td>\n      <td>-0.146621</td>\n      <td>-0.615081</td>\n      <td>-0.288290</td>\n      <td>0.0</td>\n      <td>0.895353</td>\n      <td>0.318444</td>\n      <td>0.018974</td>\n      <td>0.596614</td>\n      <td>-1.552435</td>\n      <td>-0.185260</td>\n      <td>0.383818</td>\n      <td>0.211964</td>\n    </tr>\n    <tr>\n      <th>8931</th>\n      <td>-1.701230</td>\n      <td>-1.803816</td>\n      <td>-0.264974</td>\n      <td>-1.898484</td>\n      <td>0.135432</td>\n      <td>-0.283527</td>\n      <td>-0.235472</td>\n      <td>-0.457614</td>\n      <td>-0.029978</td>\n      <td>-0.615081</td>\n      <td>3.468734</td>\n      <td>0.0</td>\n      <td>1.277646</td>\n      <td>-2.084381</td>\n      <td>-1.842920</td>\n      <td>0.589413</td>\n      <td>1.431242</td>\n      <td>-0.987924</td>\n      <td>-0.813775</td>\n      <td>-1.559982</td>\n    </tr>\n    <tr>\n      <th>135352</th>\n      <td>0.860107</td>\n      <td>1.009998</td>\n      <td>0.427424</td>\n      <td>1.237766</td>\n      <td>0.688489</td>\n      <td>-0.299864</td>\n      <td>-0.265183</td>\n      <td>-0.598225</td>\n      <td>-0.146621</td>\n      <td>-0.615081</td>\n      <td>-0.288290</td>\n      <td>0.0</td>\n      <td>-0.153221</td>\n      <td>0.874267</td>\n      <td>0.914808</td>\n      <td>-0.037064</td>\n      <td>-0.378214</td>\n      <td>-0.868761</td>\n      <td>1.428937</td>\n      <td>0.827482</td>\n    </tr>\n    <tr>\n      <th>168204</th>\n      <td>0.937367</td>\n      <td>1.213527</td>\n      <td>-0.202029</td>\n      <td>0.989886</td>\n      <td>0.012530</td>\n      <td>2.836813</td>\n      <td>3.451954</td>\n      <td>2.424914</td>\n      <td>-0.146621</td>\n      <td>1.625802</td>\n      <td>-0.288290</td>\n      <td>0.0</td>\n      <td>-0.866834</td>\n      <td>0.963512</td>\n      <td>1.167978</td>\n      <td>0.481400</td>\n      <td>0.054901</td>\n      <td>0.118268</td>\n      <td>0.954996</td>\n      <td>1.554913</td>\n    </tr>\n  </tbody>\n</table>\n<p>107829 rows × 20 columns</p>\n</div>"
     },
     "execution_count": 37,
     "metadata": {},
     "output_type": "execute_result"
    }
   ],
   "source": [
    "X_test"
   ],
   "metadata": {
    "collapsed": false,
    "ExecuteTime": {
     "end_time": "2023-06-15T18:25:51.202309Z",
     "start_time": "2023-06-15T18:25:51.196179Z"
    }
   }
  },
  {
   "cell_type": "code",
   "execution_count": 38,
   "outputs": [
    {
     "ename": "ValueError",
     "evalue": "\nAll the 135 fits failed.\nIt is very likely that your model is misconfigured.\nYou can try to debug the error by setting error_score='raise'.\n\nBelow are more details about the failures:\n--------------------------------------------------------------------------------\n135 fits failed with the following error:\nTraceback (most recent call last):\n  File \"/Users/apple/Documents/django_project/crop_recommendation_system/venv/lib/python3.11/site-packages/sklearn/model_selection/_validation.py\", line 686, in _fit_and_score\n    estimator.fit(X_train, y_train, **fit_params)\n  File \"/Users/apple/Documents/django_project/crop_recommendation_system/venv/lib/python3.11/site-packages/sklearn/ensemble/_forest.py\", line 385, in fit\n    y, expanded_class_weight = self._validate_y_class_weight(y)\n                               ^^^^^^^^^^^^^^^^^^^^^^^^^^^^^^^^\n  File \"/Users/apple/Documents/django_project/crop_recommendation_system/venv/lib/python3.11/site-packages/sklearn/ensemble/_forest.py\", line 746, in _validate_y_class_weight\n    check_classification_targets(y)\n  File \"/Users/apple/Documents/django_project/crop_recommendation_system/venv/lib/python3.11/site-packages/sklearn/utils/multiclass.py\", line 218, in check_classification_targets\n    raise ValueError(\"Unknown label type: %r\" % y_type)\nValueError: Unknown label type: 'continuous'\n",
     "output_type": "error",
     "traceback": [
      "\u001B[0;31m---------------------------------------------------------------------------\u001B[0m",
      "\u001B[0;31mValueError\u001B[0m                                Traceback (most recent call last)",
      "Cell \u001B[0;32mIn[38], line 22\u001B[0m\n\u001B[1;32m     20\u001B[0m \u001B[38;5;66;03m# Perform grid search with cross-validation\u001B[39;00m\n\u001B[1;32m     21\u001B[0m grid_search \u001B[38;5;241m=\u001B[39m GridSearchCV(estimator\u001B[38;5;241m=\u001B[39mmodel, param_grid\u001B[38;5;241m=\u001B[39mparam_grid, cv\u001B[38;5;241m=\u001B[39m\u001B[38;5;241m5\u001B[39m)\n\u001B[0;32m---> 22\u001B[0m \u001B[43mgrid_search\u001B[49m\u001B[38;5;241;43m.\u001B[39;49m\u001B[43mfit\u001B[49m\u001B[43m(\u001B[49m\u001B[43mX\u001B[49m\u001B[43m,\u001B[49m\u001B[43m \u001B[49m\u001B[43my\u001B[49m\u001B[43m)\u001B[49m\n\u001B[1;32m     24\u001B[0m \u001B[38;5;66;03m# Print the best parameters and best score\u001B[39;00m\n\u001B[1;32m     25\u001B[0m \u001B[38;5;28mprint\u001B[39m(\u001B[38;5;124m\"\u001B[39m\u001B[38;5;124mBest Parameters: \u001B[39m\u001B[38;5;124m\"\u001B[39m, grid_search\u001B[38;5;241m.\u001B[39mbest_params_)\n",
      "File \u001B[0;32m~/Documents/django_project/crop_recommendation_system/venv/lib/python3.11/site-packages/sklearn/model_selection/_search.py:874\u001B[0m, in \u001B[0;36mBaseSearchCV.fit\u001B[0;34m(self, X, y, groups, **fit_params)\u001B[0m\n\u001B[1;32m    868\u001B[0m     results \u001B[38;5;241m=\u001B[39m \u001B[38;5;28mself\u001B[39m\u001B[38;5;241m.\u001B[39m_format_results(\n\u001B[1;32m    869\u001B[0m         all_candidate_params, n_splits, all_out, all_more_results\n\u001B[1;32m    870\u001B[0m     )\n\u001B[1;32m    872\u001B[0m     \u001B[38;5;28;01mreturn\u001B[39;00m results\n\u001B[0;32m--> 874\u001B[0m \u001B[38;5;28;43mself\u001B[39;49m\u001B[38;5;241;43m.\u001B[39;49m\u001B[43m_run_search\u001B[49m\u001B[43m(\u001B[49m\u001B[43mevaluate_candidates\u001B[49m\u001B[43m)\u001B[49m\n\u001B[1;32m    876\u001B[0m \u001B[38;5;66;03m# multimetric is determined here because in the case of a callable\u001B[39;00m\n\u001B[1;32m    877\u001B[0m \u001B[38;5;66;03m# self.scoring the return type is only known after calling\u001B[39;00m\n\u001B[1;32m    878\u001B[0m first_test_score \u001B[38;5;241m=\u001B[39m all_out[\u001B[38;5;241m0\u001B[39m][\u001B[38;5;124m\"\u001B[39m\u001B[38;5;124mtest_scores\u001B[39m\u001B[38;5;124m\"\u001B[39m]\n",
      "File \u001B[0;32m~/Documents/django_project/crop_recommendation_system/venv/lib/python3.11/site-packages/sklearn/model_selection/_search.py:1388\u001B[0m, in \u001B[0;36mGridSearchCV._run_search\u001B[0;34m(self, evaluate_candidates)\u001B[0m\n\u001B[1;32m   1386\u001B[0m \u001B[38;5;28;01mdef\u001B[39;00m \u001B[38;5;21m_run_search\u001B[39m(\u001B[38;5;28mself\u001B[39m, evaluate_candidates):\n\u001B[1;32m   1387\u001B[0m \u001B[38;5;250m    \u001B[39m\u001B[38;5;124;03m\"\"\"Search all candidates in param_grid\"\"\"\u001B[39;00m\n\u001B[0;32m-> 1388\u001B[0m     \u001B[43mevaluate_candidates\u001B[49m\u001B[43m(\u001B[49m\u001B[43mParameterGrid\u001B[49m\u001B[43m(\u001B[49m\u001B[38;5;28;43mself\u001B[39;49m\u001B[38;5;241;43m.\u001B[39;49m\u001B[43mparam_grid\u001B[49m\u001B[43m)\u001B[49m\u001B[43m)\u001B[49m\n",
      "File \u001B[0;32m~/Documents/django_project/crop_recommendation_system/venv/lib/python3.11/site-packages/sklearn/model_selection/_search.py:851\u001B[0m, in \u001B[0;36mBaseSearchCV.fit.<locals>.evaluate_candidates\u001B[0;34m(candidate_params, cv, more_results)\u001B[0m\n\u001B[1;32m    844\u001B[0m \u001B[38;5;28;01melif\u001B[39;00m \u001B[38;5;28mlen\u001B[39m(out) \u001B[38;5;241m!=\u001B[39m n_candidates \u001B[38;5;241m*\u001B[39m n_splits:\n\u001B[1;32m    845\u001B[0m     \u001B[38;5;28;01mraise\u001B[39;00m \u001B[38;5;167;01mValueError\u001B[39;00m(\n\u001B[1;32m    846\u001B[0m         \u001B[38;5;124m\"\u001B[39m\u001B[38;5;124mcv.split and cv.get_n_splits returned \u001B[39m\u001B[38;5;124m\"\u001B[39m\n\u001B[1;32m    847\u001B[0m         \u001B[38;5;124m\"\u001B[39m\u001B[38;5;124minconsistent results. Expected \u001B[39m\u001B[38;5;132;01m{}\u001B[39;00m\u001B[38;5;124m \u001B[39m\u001B[38;5;124m\"\u001B[39m\n\u001B[1;32m    848\u001B[0m         \u001B[38;5;124m\"\u001B[39m\u001B[38;5;124msplits, got \u001B[39m\u001B[38;5;132;01m{}\u001B[39;00m\u001B[38;5;124m\"\u001B[39m\u001B[38;5;241m.\u001B[39mformat(n_splits, \u001B[38;5;28mlen\u001B[39m(out) \u001B[38;5;241m/\u001B[39m\u001B[38;5;241m/\u001B[39m n_candidates)\n\u001B[1;32m    849\u001B[0m     )\n\u001B[0;32m--> 851\u001B[0m \u001B[43m_warn_or_raise_about_fit_failures\u001B[49m\u001B[43m(\u001B[49m\u001B[43mout\u001B[49m\u001B[43m,\u001B[49m\u001B[43m \u001B[49m\u001B[38;5;28;43mself\u001B[39;49m\u001B[38;5;241;43m.\u001B[39;49m\u001B[43merror_score\u001B[49m\u001B[43m)\u001B[49m\n\u001B[1;32m    853\u001B[0m \u001B[38;5;66;03m# For callable self.scoring, the return type is only know after\u001B[39;00m\n\u001B[1;32m    854\u001B[0m \u001B[38;5;66;03m# calling. If the return type is a dictionary, the error scores\u001B[39;00m\n\u001B[1;32m    855\u001B[0m \u001B[38;5;66;03m# can now be inserted with the correct key. The type checking\u001B[39;00m\n\u001B[1;32m    856\u001B[0m \u001B[38;5;66;03m# of out will be done in `_insert_error_scores`.\u001B[39;00m\n\u001B[1;32m    857\u001B[0m \u001B[38;5;28;01mif\u001B[39;00m \u001B[38;5;28mcallable\u001B[39m(\u001B[38;5;28mself\u001B[39m\u001B[38;5;241m.\u001B[39mscoring):\n",
      "File \u001B[0;32m~/Documents/django_project/crop_recommendation_system/venv/lib/python3.11/site-packages/sklearn/model_selection/_validation.py:367\u001B[0m, in \u001B[0;36m_warn_or_raise_about_fit_failures\u001B[0;34m(results, error_score)\u001B[0m\n\u001B[1;32m    360\u001B[0m \u001B[38;5;28;01mif\u001B[39;00m num_failed_fits \u001B[38;5;241m==\u001B[39m num_fits:\n\u001B[1;32m    361\u001B[0m     all_fits_failed_message \u001B[38;5;241m=\u001B[39m (\n\u001B[1;32m    362\u001B[0m         \u001B[38;5;124mf\u001B[39m\u001B[38;5;124m\"\u001B[39m\u001B[38;5;130;01m\\n\u001B[39;00m\u001B[38;5;124mAll the \u001B[39m\u001B[38;5;132;01m{\u001B[39;00mnum_fits\u001B[38;5;132;01m}\u001B[39;00m\u001B[38;5;124m fits failed.\u001B[39m\u001B[38;5;130;01m\\n\u001B[39;00m\u001B[38;5;124m\"\u001B[39m\n\u001B[1;32m    363\u001B[0m         \u001B[38;5;124m\"\u001B[39m\u001B[38;5;124mIt is very likely that your model is misconfigured.\u001B[39m\u001B[38;5;130;01m\\n\u001B[39;00m\u001B[38;5;124m\"\u001B[39m\n\u001B[1;32m    364\u001B[0m         \u001B[38;5;124m\"\u001B[39m\u001B[38;5;124mYou can try to debug the error by setting error_score=\u001B[39m\u001B[38;5;124m'\u001B[39m\u001B[38;5;124mraise\u001B[39m\u001B[38;5;124m'\u001B[39m\u001B[38;5;124m.\u001B[39m\u001B[38;5;130;01m\\n\u001B[39;00m\u001B[38;5;130;01m\\n\u001B[39;00m\u001B[38;5;124m\"\u001B[39m\n\u001B[1;32m    365\u001B[0m         \u001B[38;5;124mf\u001B[39m\u001B[38;5;124m\"\u001B[39m\u001B[38;5;124mBelow are more details about the failures:\u001B[39m\u001B[38;5;130;01m\\n\u001B[39;00m\u001B[38;5;132;01m{\u001B[39;00mfit_errors_summary\u001B[38;5;132;01m}\u001B[39;00m\u001B[38;5;124m\"\u001B[39m\n\u001B[1;32m    366\u001B[0m     )\n\u001B[0;32m--> 367\u001B[0m     \u001B[38;5;28;01mraise\u001B[39;00m \u001B[38;5;167;01mValueError\u001B[39;00m(all_fits_failed_message)\n\u001B[1;32m    369\u001B[0m \u001B[38;5;28;01melse\u001B[39;00m:\n\u001B[1;32m    370\u001B[0m     some_fits_failed_message \u001B[38;5;241m=\u001B[39m (\n\u001B[1;32m    371\u001B[0m         \u001B[38;5;124mf\u001B[39m\u001B[38;5;124m\"\u001B[39m\u001B[38;5;130;01m\\n\u001B[39;00m\u001B[38;5;132;01m{\u001B[39;00mnum_failed_fits\u001B[38;5;132;01m}\u001B[39;00m\u001B[38;5;124m fits failed out of a total of \u001B[39m\u001B[38;5;132;01m{\u001B[39;00mnum_fits\u001B[38;5;132;01m}\u001B[39;00m\u001B[38;5;124m.\u001B[39m\u001B[38;5;130;01m\\n\u001B[39;00m\u001B[38;5;124m\"\u001B[39m\n\u001B[1;32m    372\u001B[0m         \u001B[38;5;124m\"\u001B[39m\u001B[38;5;124mThe score on these train-test partitions for these parameters\u001B[39m\u001B[38;5;124m\"\u001B[39m\n\u001B[0;32m   (...)\u001B[0m\n\u001B[1;32m    376\u001B[0m         \u001B[38;5;124mf\u001B[39m\u001B[38;5;124m\"\u001B[39m\u001B[38;5;124mBelow are more details about the failures:\u001B[39m\u001B[38;5;130;01m\\n\u001B[39;00m\u001B[38;5;132;01m{\u001B[39;00mfit_errors_summary\u001B[38;5;132;01m}\u001B[39;00m\u001B[38;5;124m\"\u001B[39m\n\u001B[1;32m    377\u001B[0m     )\n",
      "\u001B[0;31mValueError\u001B[0m: \nAll the 135 fits failed.\nIt is very likely that your model is misconfigured.\nYou can try to debug the error by setting error_score='raise'.\n\nBelow are more details about the failures:\n--------------------------------------------------------------------------------\n135 fits failed with the following error:\nTraceback (most recent call last):\n  File \"/Users/apple/Documents/django_project/crop_recommendation_system/venv/lib/python3.11/site-packages/sklearn/model_selection/_validation.py\", line 686, in _fit_and_score\n    estimator.fit(X_train, y_train, **fit_params)\n  File \"/Users/apple/Documents/django_project/crop_recommendation_system/venv/lib/python3.11/site-packages/sklearn/ensemble/_forest.py\", line 385, in fit\n    y, expanded_class_weight = self._validate_y_class_weight(y)\n                               ^^^^^^^^^^^^^^^^^^^^^^^^^^^^^^^^\n  File \"/Users/apple/Documents/django_project/crop_recommendation_system/venv/lib/python3.11/site-packages/sklearn/ensemble/_forest.py\", line 746, in _validate_y_class_weight\n    check_classification_targets(y)\n  File \"/Users/apple/Documents/django_project/crop_recommendation_system/venv/lib/python3.11/site-packages/sklearn/utils/multiclass.py\", line 218, in check_classification_targets\n    raise ValueError(\"Unknown label type: %r\" % y_type)\nValueError: Unknown label type: 'continuous'\n"
     ]
    }
   ],
   "source": [
    "from sklearn.model_selection import GridSearchCV\n",
    "from sklearn.ensemble import RandomForestClassifier\n",
    "\n",
    "\n",
    "# Load the dataset\n",
    "\n",
    "X = X_train\n",
    "y = y_train\n",
    "\n",
    "# Define the model\n",
    "model = RandomForestClassifier()\n",
    "\n",
    "# Define the parameter grid for tuning\n",
    "param_grid = {\n",
    "    'n_estimators': [50, 100, 200],\n",
    "    'max_depth': [None, 5, 10],\n",
    "    'min_samples_split': [2, 4, 8]\n",
    "}\n",
    "\n",
    "# Perform grid search with cross-validation\n",
    "grid_search = GridSearchCV(estimator=model, param_grid=param_grid, cv=5)\n",
    "grid_search.fit(X, y)\n",
    "\n",
    "# Print the best parameters and best score\n",
    "print(\"Best Parameters: \", grid_search.best_params_)\n",
    "print(\"Best Score: \", grid_search.best_score_)\n"
   ],
   "metadata": {
    "collapsed": false,
    "ExecuteTime": {
     "end_time": "2023-06-15T18:36:54.867779Z",
     "start_time": "2023-06-15T18:36:51.520068Z"
    }
   }
  },
  {
   "cell_type": "code",
   "execution_count": 40,
   "outputs": [
    {
     "ename": "ValueError",
     "evalue": "\nAll the 50 fits failed.\nIt is very likely that your model is misconfigured.\nYou can try to debug the error by setting error_score='raise'.\n\nBelow are more details about the failures:\n--------------------------------------------------------------------------------\n50 fits failed with the following error:\nTraceback (most recent call last):\n  File \"/Users/apple/Documents/django_project/crop_recommendation_system/venv/lib/python3.11/site-packages/sklearn/model_selection/_validation.py\", line 686, in _fit_and_score\n    estimator.fit(X_train, y_train, **fit_params)\n  File \"/Users/apple/Documents/django_project/crop_recommendation_system/venv/lib/python3.11/site-packages/sklearn/ensemble/_forest.py\", line 385, in fit\n    y, expanded_class_weight = self._validate_y_class_weight(y)\n                               ^^^^^^^^^^^^^^^^^^^^^^^^^^^^^^^^\n  File \"/Users/apple/Documents/django_project/crop_recommendation_system/venv/lib/python3.11/site-packages/sklearn/ensemble/_forest.py\", line 746, in _validate_y_class_weight\n    check_classification_targets(y)\n  File \"/Users/apple/Documents/django_project/crop_recommendation_system/venv/lib/python3.11/site-packages/sklearn/utils/multiclass.py\", line 218, in check_classification_targets\n    raise ValueError(\"Unknown label type: %r\" % y_type)\nValueError: Unknown label type: 'continuous'\n",
     "output_type": "error",
     "traceback": [
      "\u001B[0;31m---------------------------------------------------------------------------\u001B[0m",
      "\u001B[0;31mValueError\u001B[0m                                Traceback (most recent call last)",
      "Cell \u001B[0;32mIn[40], line 23\u001B[0m\n\u001B[1;32m     21\u001B[0m \u001B[38;5;66;03m# Perform randomized search with cross-validation\u001B[39;00m\n\u001B[1;32m     22\u001B[0m random_search \u001B[38;5;241m=\u001B[39m RandomizedSearchCV(estimator\u001B[38;5;241m=\u001B[39mmodel, param_distributions\u001B[38;5;241m=\u001B[39mparam_grid, n_iter\u001B[38;5;241m=\u001B[39m\u001B[38;5;241m10\u001B[39m, cv\u001B[38;5;241m=\u001B[39m\u001B[38;5;241m5\u001B[39m)\n\u001B[0;32m---> 23\u001B[0m \u001B[43mrandom_search\u001B[49m\u001B[38;5;241;43m.\u001B[39;49m\u001B[43mfit\u001B[49m\u001B[43m(\u001B[49m\u001B[43mX_1\u001B[49m\u001B[43m,\u001B[49m\u001B[43m \u001B[49m\u001B[43my_1\u001B[49m\u001B[43m)\u001B[49m\n\u001B[1;32m     25\u001B[0m \u001B[38;5;66;03m# Print the best parameters and best score\u001B[39;00m\n\u001B[1;32m     26\u001B[0m \u001B[38;5;28mprint\u001B[39m(\u001B[38;5;124m\"\u001B[39m\u001B[38;5;124mBest Parameters: \u001B[39m\u001B[38;5;124m\"\u001B[39m, random_search\u001B[38;5;241m.\u001B[39mbest_params_)\n",
      "File \u001B[0;32m~/Documents/django_project/crop_recommendation_system/venv/lib/python3.11/site-packages/sklearn/model_selection/_search.py:874\u001B[0m, in \u001B[0;36mBaseSearchCV.fit\u001B[0;34m(self, X, y, groups, **fit_params)\u001B[0m\n\u001B[1;32m    868\u001B[0m     results \u001B[38;5;241m=\u001B[39m \u001B[38;5;28mself\u001B[39m\u001B[38;5;241m.\u001B[39m_format_results(\n\u001B[1;32m    869\u001B[0m         all_candidate_params, n_splits, all_out, all_more_results\n\u001B[1;32m    870\u001B[0m     )\n\u001B[1;32m    872\u001B[0m     \u001B[38;5;28;01mreturn\u001B[39;00m results\n\u001B[0;32m--> 874\u001B[0m \u001B[38;5;28;43mself\u001B[39;49m\u001B[38;5;241;43m.\u001B[39;49m\u001B[43m_run_search\u001B[49m\u001B[43m(\u001B[49m\u001B[43mevaluate_candidates\u001B[49m\u001B[43m)\u001B[49m\n\u001B[1;32m    876\u001B[0m \u001B[38;5;66;03m# multimetric is determined here because in the case of a callable\u001B[39;00m\n\u001B[1;32m    877\u001B[0m \u001B[38;5;66;03m# self.scoring the return type is only known after calling\u001B[39;00m\n\u001B[1;32m    878\u001B[0m first_test_score \u001B[38;5;241m=\u001B[39m all_out[\u001B[38;5;241m0\u001B[39m][\u001B[38;5;124m\"\u001B[39m\u001B[38;5;124mtest_scores\u001B[39m\u001B[38;5;124m\"\u001B[39m]\n",
      "File \u001B[0;32m~/Documents/django_project/crop_recommendation_system/venv/lib/python3.11/site-packages/sklearn/model_selection/_search.py:1768\u001B[0m, in \u001B[0;36mRandomizedSearchCV._run_search\u001B[0;34m(self, evaluate_candidates)\u001B[0m\n\u001B[1;32m   1766\u001B[0m \u001B[38;5;28;01mdef\u001B[39;00m \u001B[38;5;21m_run_search\u001B[39m(\u001B[38;5;28mself\u001B[39m, evaluate_candidates):\n\u001B[1;32m   1767\u001B[0m \u001B[38;5;250m    \u001B[39m\u001B[38;5;124;03m\"\"\"Search n_iter candidates from param_distributions\"\"\"\u001B[39;00m\n\u001B[0;32m-> 1768\u001B[0m     \u001B[43mevaluate_candidates\u001B[49m\u001B[43m(\u001B[49m\n\u001B[1;32m   1769\u001B[0m \u001B[43m        \u001B[49m\u001B[43mParameterSampler\u001B[49m\u001B[43m(\u001B[49m\n\u001B[1;32m   1770\u001B[0m \u001B[43m            \u001B[49m\u001B[38;5;28;43mself\u001B[39;49m\u001B[38;5;241;43m.\u001B[39;49m\u001B[43mparam_distributions\u001B[49m\u001B[43m,\u001B[49m\u001B[43m \u001B[49m\u001B[38;5;28;43mself\u001B[39;49m\u001B[38;5;241;43m.\u001B[39;49m\u001B[43mn_iter\u001B[49m\u001B[43m,\u001B[49m\u001B[43m \u001B[49m\u001B[43mrandom_state\u001B[49m\u001B[38;5;241;43m=\u001B[39;49m\u001B[38;5;28;43mself\u001B[39;49m\u001B[38;5;241;43m.\u001B[39;49m\u001B[43mrandom_state\u001B[49m\n\u001B[1;32m   1771\u001B[0m \u001B[43m        \u001B[49m\u001B[43m)\u001B[49m\n\u001B[1;32m   1772\u001B[0m \u001B[43m    \u001B[49m\u001B[43m)\u001B[49m\n",
      "File \u001B[0;32m~/Documents/django_project/crop_recommendation_system/venv/lib/python3.11/site-packages/sklearn/model_selection/_search.py:851\u001B[0m, in \u001B[0;36mBaseSearchCV.fit.<locals>.evaluate_candidates\u001B[0;34m(candidate_params, cv, more_results)\u001B[0m\n\u001B[1;32m    844\u001B[0m \u001B[38;5;28;01melif\u001B[39;00m \u001B[38;5;28mlen\u001B[39m(out) \u001B[38;5;241m!=\u001B[39m n_candidates \u001B[38;5;241m*\u001B[39m n_splits:\n\u001B[1;32m    845\u001B[0m     \u001B[38;5;28;01mraise\u001B[39;00m \u001B[38;5;167;01mValueError\u001B[39;00m(\n\u001B[1;32m    846\u001B[0m         \u001B[38;5;124m\"\u001B[39m\u001B[38;5;124mcv.split and cv.get_n_splits returned \u001B[39m\u001B[38;5;124m\"\u001B[39m\n\u001B[1;32m    847\u001B[0m         \u001B[38;5;124m\"\u001B[39m\u001B[38;5;124minconsistent results. Expected \u001B[39m\u001B[38;5;132;01m{}\u001B[39;00m\u001B[38;5;124m \u001B[39m\u001B[38;5;124m\"\u001B[39m\n\u001B[1;32m    848\u001B[0m         \u001B[38;5;124m\"\u001B[39m\u001B[38;5;124msplits, got \u001B[39m\u001B[38;5;132;01m{}\u001B[39;00m\u001B[38;5;124m\"\u001B[39m\u001B[38;5;241m.\u001B[39mformat(n_splits, \u001B[38;5;28mlen\u001B[39m(out) \u001B[38;5;241m/\u001B[39m\u001B[38;5;241m/\u001B[39m n_candidates)\n\u001B[1;32m    849\u001B[0m     )\n\u001B[0;32m--> 851\u001B[0m \u001B[43m_warn_or_raise_about_fit_failures\u001B[49m\u001B[43m(\u001B[49m\u001B[43mout\u001B[49m\u001B[43m,\u001B[49m\u001B[43m \u001B[49m\u001B[38;5;28;43mself\u001B[39;49m\u001B[38;5;241;43m.\u001B[39;49m\u001B[43merror_score\u001B[49m\u001B[43m)\u001B[49m\n\u001B[1;32m    853\u001B[0m \u001B[38;5;66;03m# For callable self.scoring, the return type is only know after\u001B[39;00m\n\u001B[1;32m    854\u001B[0m \u001B[38;5;66;03m# calling. If the return type is a dictionary, the error scores\u001B[39;00m\n\u001B[1;32m    855\u001B[0m \u001B[38;5;66;03m# can now be inserted with the correct key. The type checking\u001B[39;00m\n\u001B[1;32m    856\u001B[0m \u001B[38;5;66;03m# of out will be done in `_insert_error_scores`.\u001B[39;00m\n\u001B[1;32m    857\u001B[0m \u001B[38;5;28;01mif\u001B[39;00m \u001B[38;5;28mcallable\u001B[39m(\u001B[38;5;28mself\u001B[39m\u001B[38;5;241m.\u001B[39mscoring):\n",
      "File \u001B[0;32m~/Documents/django_project/crop_recommendation_system/venv/lib/python3.11/site-packages/sklearn/model_selection/_validation.py:367\u001B[0m, in \u001B[0;36m_warn_or_raise_about_fit_failures\u001B[0;34m(results, error_score)\u001B[0m\n\u001B[1;32m    360\u001B[0m \u001B[38;5;28;01mif\u001B[39;00m num_failed_fits \u001B[38;5;241m==\u001B[39m num_fits:\n\u001B[1;32m    361\u001B[0m     all_fits_failed_message \u001B[38;5;241m=\u001B[39m (\n\u001B[1;32m    362\u001B[0m         \u001B[38;5;124mf\u001B[39m\u001B[38;5;124m\"\u001B[39m\u001B[38;5;130;01m\\n\u001B[39;00m\u001B[38;5;124mAll the \u001B[39m\u001B[38;5;132;01m{\u001B[39;00mnum_fits\u001B[38;5;132;01m}\u001B[39;00m\u001B[38;5;124m fits failed.\u001B[39m\u001B[38;5;130;01m\\n\u001B[39;00m\u001B[38;5;124m\"\u001B[39m\n\u001B[1;32m    363\u001B[0m         \u001B[38;5;124m\"\u001B[39m\u001B[38;5;124mIt is very likely that your model is misconfigured.\u001B[39m\u001B[38;5;130;01m\\n\u001B[39;00m\u001B[38;5;124m\"\u001B[39m\n\u001B[1;32m    364\u001B[0m         \u001B[38;5;124m\"\u001B[39m\u001B[38;5;124mYou can try to debug the error by setting error_score=\u001B[39m\u001B[38;5;124m'\u001B[39m\u001B[38;5;124mraise\u001B[39m\u001B[38;5;124m'\u001B[39m\u001B[38;5;124m.\u001B[39m\u001B[38;5;130;01m\\n\u001B[39;00m\u001B[38;5;130;01m\\n\u001B[39;00m\u001B[38;5;124m\"\u001B[39m\n\u001B[1;32m    365\u001B[0m         \u001B[38;5;124mf\u001B[39m\u001B[38;5;124m\"\u001B[39m\u001B[38;5;124mBelow are more details about the failures:\u001B[39m\u001B[38;5;130;01m\\n\u001B[39;00m\u001B[38;5;132;01m{\u001B[39;00mfit_errors_summary\u001B[38;5;132;01m}\u001B[39;00m\u001B[38;5;124m\"\u001B[39m\n\u001B[1;32m    366\u001B[0m     )\n\u001B[0;32m--> 367\u001B[0m     \u001B[38;5;28;01mraise\u001B[39;00m \u001B[38;5;167;01mValueError\u001B[39;00m(all_fits_failed_message)\n\u001B[1;32m    369\u001B[0m \u001B[38;5;28;01melse\u001B[39;00m:\n\u001B[1;32m    370\u001B[0m     some_fits_failed_message \u001B[38;5;241m=\u001B[39m (\n\u001B[1;32m    371\u001B[0m         \u001B[38;5;124mf\u001B[39m\u001B[38;5;124m\"\u001B[39m\u001B[38;5;130;01m\\n\u001B[39;00m\u001B[38;5;132;01m{\u001B[39;00mnum_failed_fits\u001B[38;5;132;01m}\u001B[39;00m\u001B[38;5;124m fits failed out of a total of \u001B[39m\u001B[38;5;132;01m{\u001B[39;00mnum_fits\u001B[38;5;132;01m}\u001B[39;00m\u001B[38;5;124m.\u001B[39m\u001B[38;5;130;01m\\n\u001B[39;00m\u001B[38;5;124m\"\u001B[39m\n\u001B[1;32m    372\u001B[0m         \u001B[38;5;124m\"\u001B[39m\u001B[38;5;124mThe score on these train-test partitions for these parameters\u001B[39m\u001B[38;5;124m\"\u001B[39m\n\u001B[0;32m   (...)\u001B[0m\n\u001B[1;32m    376\u001B[0m         \u001B[38;5;124mf\u001B[39m\u001B[38;5;124m\"\u001B[39m\u001B[38;5;124mBelow are more details about the failures:\u001B[39m\u001B[38;5;130;01m\\n\u001B[39;00m\u001B[38;5;132;01m{\u001B[39;00mfit_errors_summary\u001B[38;5;132;01m}\u001B[39;00m\u001B[38;5;124m\"\u001B[39m\n\u001B[1;32m    377\u001B[0m     )\n",
      "\u001B[0;31mValueError\u001B[0m: \nAll the 50 fits failed.\nIt is very likely that your model is misconfigured.\nYou can try to debug the error by setting error_score='raise'.\n\nBelow are more details about the failures:\n--------------------------------------------------------------------------------\n50 fits failed with the following error:\nTraceback (most recent call last):\n  File \"/Users/apple/Documents/django_project/crop_recommendation_system/venv/lib/python3.11/site-packages/sklearn/model_selection/_validation.py\", line 686, in _fit_and_score\n    estimator.fit(X_train, y_train, **fit_params)\n  File \"/Users/apple/Documents/django_project/crop_recommendation_system/venv/lib/python3.11/site-packages/sklearn/ensemble/_forest.py\", line 385, in fit\n    y, expanded_class_weight = self._validate_y_class_weight(y)\n                               ^^^^^^^^^^^^^^^^^^^^^^^^^^^^^^^^\n  File \"/Users/apple/Documents/django_project/crop_recommendation_system/venv/lib/python3.11/site-packages/sklearn/ensemble/_forest.py\", line 746, in _validate_y_class_weight\n    check_classification_targets(y)\n  File \"/Users/apple/Documents/django_project/crop_recommendation_system/venv/lib/python3.11/site-packages/sklearn/utils/multiclass.py\", line 218, in check_classification_targets\n    raise ValueError(\"Unknown label type: %r\" % y_type)\nValueError: Unknown label type: 'continuous'\n"
     ]
    }
   ],
   "source": [
    "from sklearn.model_selection import RandomizedSearchCV\n",
    "from sklearn.ensemble import RandomForestClassifier\n",
    "from sklearn.datasets import load_iris\n",
    "import numpy as np\n",
    "\n",
    "# Load the dataset\n",
    "iris = load_iris()\n",
    "X_1 = X_train\n",
    "y_1 = y_train\n",
    "\n",
    "# Define the model\n",
    "model = RandomForestClassifier()\n",
    "\n",
    "# Define the parameter grid for tuning\n",
    "param_grid = {\n",
    "    'n_estimators': np.arange(50, 300, 50),\n",
    "    'max_depth': [None, 5, 10, 15, 20],\n",
    "    'min_samples_split': np.arange(2, 10, 2)\n",
    "}\n",
    "\n",
    "# Perform randomized search with cross-validation\n",
    "random_search = RandomizedSearchCV(estimator=model, param_distributions=param_grid, n_iter=10, cv=5)\n",
    "random_search.fit(X_1, y_1)\n",
    "\n",
    "# Print the best parameters and best score\n",
    "print(\"Best Parameters: \", random_search.best_params_)\n",
    "print(\"Best Score: \", random_search.best_score_)\n"
   ],
   "metadata": {
    "collapsed": false,
    "ExecuteTime": {
     "end_time": "2023-06-15T18:39:11.535949Z",
     "start_time": "2023-06-15T18:39:09.943154Z"
    }
   }
  },
  {
   "cell_type": "code",
   "execution_count": null,
   "outputs": [
    {
     "ename": "KeyboardInterrupt",
     "evalue": "",
     "output_type": "error",
     "traceback": [
      "\u001B[0;31m---------------------------------------------------------------------------\u001B[0m",
      "\u001B[0;31mKeyboardInterrupt\u001B[0m                         Traceback (most recent call last)",
      "Cell \u001B[0;32mIn[42], line 23\u001B[0m\n\u001B[1;32m     21\u001B[0m \u001B[38;5;66;03m# Perform randomized search with cross-validation\u001B[39;00m\n\u001B[1;32m     22\u001B[0m random_search \u001B[38;5;241m=\u001B[39m RandomizedSearchCV(estimator\u001B[38;5;241m=\u001B[39mmodel, param_distributions\u001B[38;5;241m=\u001B[39mparam_grid, n_iter\u001B[38;5;241m=\u001B[39m\u001B[38;5;241m10\u001B[39m, cv\u001B[38;5;241m=\u001B[39m\u001B[38;5;241m5\u001B[39m)\n\u001B[0;32m---> 23\u001B[0m \u001B[43mrandom_search\u001B[49m\u001B[38;5;241;43m.\u001B[39;49m\u001B[43mfit\u001B[49m\u001B[43m(\u001B[49m\u001B[43mX\u001B[49m\u001B[43m,\u001B[49m\u001B[43m \u001B[49m\u001B[43my\u001B[49m\u001B[43m)\u001B[49m\n\u001B[1;32m     25\u001B[0m \u001B[38;5;66;03m# Print the best parameters and best score\u001B[39;00m\n\u001B[1;32m     26\u001B[0m \u001B[38;5;28mprint\u001B[39m(\u001B[38;5;124m\"\u001B[39m\u001B[38;5;124mBest Parameters: \u001B[39m\u001B[38;5;124m\"\u001B[39m, random_search\u001B[38;5;241m.\u001B[39mbest_params_)\n",
      "File \u001B[0;32m~/Documents/django_project/crop_recommendation_system/venv/lib/python3.11/site-packages/sklearn/model_selection/_search.py:874\u001B[0m, in \u001B[0;36mBaseSearchCV.fit\u001B[0;34m(self, X, y, groups, **fit_params)\u001B[0m\n\u001B[1;32m    868\u001B[0m     results \u001B[38;5;241m=\u001B[39m \u001B[38;5;28mself\u001B[39m\u001B[38;5;241m.\u001B[39m_format_results(\n\u001B[1;32m    869\u001B[0m         all_candidate_params, n_splits, all_out, all_more_results\n\u001B[1;32m    870\u001B[0m     )\n\u001B[1;32m    872\u001B[0m     \u001B[38;5;28;01mreturn\u001B[39;00m results\n\u001B[0;32m--> 874\u001B[0m \u001B[38;5;28;43mself\u001B[39;49m\u001B[38;5;241;43m.\u001B[39;49m\u001B[43m_run_search\u001B[49m\u001B[43m(\u001B[49m\u001B[43mevaluate_candidates\u001B[49m\u001B[43m)\u001B[49m\n\u001B[1;32m    876\u001B[0m \u001B[38;5;66;03m# multimetric is determined here because in the case of a callable\u001B[39;00m\n\u001B[1;32m    877\u001B[0m \u001B[38;5;66;03m# self.scoring the return type is only known after calling\u001B[39;00m\n\u001B[1;32m    878\u001B[0m first_test_score \u001B[38;5;241m=\u001B[39m all_out[\u001B[38;5;241m0\u001B[39m][\u001B[38;5;124m\"\u001B[39m\u001B[38;5;124mtest_scores\u001B[39m\u001B[38;5;124m\"\u001B[39m]\n",
      "File \u001B[0;32m~/Documents/django_project/crop_recommendation_system/venv/lib/python3.11/site-packages/sklearn/model_selection/_search.py:1768\u001B[0m, in \u001B[0;36mRandomizedSearchCV._run_search\u001B[0;34m(self, evaluate_candidates)\u001B[0m\n\u001B[1;32m   1766\u001B[0m \u001B[38;5;28;01mdef\u001B[39;00m \u001B[38;5;21m_run_search\u001B[39m(\u001B[38;5;28mself\u001B[39m, evaluate_candidates):\n\u001B[1;32m   1767\u001B[0m \u001B[38;5;250m    \u001B[39m\u001B[38;5;124;03m\"\"\"Search n_iter candidates from param_distributions\"\"\"\u001B[39;00m\n\u001B[0;32m-> 1768\u001B[0m     \u001B[43mevaluate_candidates\u001B[49m\u001B[43m(\u001B[49m\n\u001B[1;32m   1769\u001B[0m \u001B[43m        \u001B[49m\u001B[43mParameterSampler\u001B[49m\u001B[43m(\u001B[49m\n\u001B[1;32m   1770\u001B[0m \u001B[43m            \u001B[49m\u001B[38;5;28;43mself\u001B[39;49m\u001B[38;5;241;43m.\u001B[39;49m\u001B[43mparam_distributions\u001B[49m\u001B[43m,\u001B[49m\u001B[43m \u001B[49m\u001B[38;5;28;43mself\u001B[39;49m\u001B[38;5;241;43m.\u001B[39;49m\u001B[43mn_iter\u001B[49m\u001B[43m,\u001B[49m\u001B[43m \u001B[49m\u001B[43mrandom_state\u001B[49m\u001B[38;5;241;43m=\u001B[39;49m\u001B[38;5;28;43mself\u001B[39;49m\u001B[38;5;241;43m.\u001B[39;49m\u001B[43mrandom_state\u001B[49m\n\u001B[1;32m   1771\u001B[0m \u001B[43m        \u001B[49m\u001B[43m)\u001B[49m\n\u001B[1;32m   1772\u001B[0m \u001B[43m    \u001B[49m\u001B[43m)\u001B[49m\n",
      "File \u001B[0;32m~/Documents/django_project/crop_recommendation_system/venv/lib/python3.11/site-packages/sklearn/model_selection/_search.py:821\u001B[0m, in \u001B[0;36mBaseSearchCV.fit.<locals>.evaluate_candidates\u001B[0;34m(candidate_params, cv, more_results)\u001B[0m\n\u001B[1;32m    813\u001B[0m \u001B[38;5;28;01mif\u001B[39;00m \u001B[38;5;28mself\u001B[39m\u001B[38;5;241m.\u001B[39mverbose \u001B[38;5;241m>\u001B[39m \u001B[38;5;241m0\u001B[39m:\n\u001B[1;32m    814\u001B[0m     \u001B[38;5;28mprint\u001B[39m(\n\u001B[1;32m    815\u001B[0m         \u001B[38;5;124m\"\u001B[39m\u001B[38;5;124mFitting \u001B[39m\u001B[38;5;132;01m{0}\u001B[39;00m\u001B[38;5;124m folds for each of \u001B[39m\u001B[38;5;132;01m{1}\u001B[39;00m\u001B[38;5;124m candidates,\u001B[39m\u001B[38;5;124m\"\u001B[39m\n\u001B[1;32m    816\u001B[0m         \u001B[38;5;124m\"\u001B[39m\u001B[38;5;124m totalling \u001B[39m\u001B[38;5;132;01m{2}\u001B[39;00m\u001B[38;5;124m fits\u001B[39m\u001B[38;5;124m\"\u001B[39m\u001B[38;5;241m.\u001B[39mformat(\n\u001B[1;32m    817\u001B[0m             n_splits, n_candidates, n_candidates \u001B[38;5;241m*\u001B[39m n_splits\n\u001B[1;32m    818\u001B[0m         )\n\u001B[1;32m    819\u001B[0m     )\n\u001B[0;32m--> 821\u001B[0m out \u001B[38;5;241m=\u001B[39m \u001B[43mparallel\u001B[49m\u001B[43m(\u001B[49m\n\u001B[1;32m    822\u001B[0m \u001B[43m    \u001B[49m\u001B[43mdelayed\u001B[49m\u001B[43m(\u001B[49m\u001B[43m_fit_and_score\u001B[49m\u001B[43m)\u001B[49m\u001B[43m(\u001B[49m\n\u001B[1;32m    823\u001B[0m \u001B[43m        \u001B[49m\u001B[43mclone\u001B[49m\u001B[43m(\u001B[49m\u001B[43mbase_estimator\u001B[49m\u001B[43m)\u001B[49m\u001B[43m,\u001B[49m\n\u001B[1;32m    824\u001B[0m \u001B[43m        \u001B[49m\u001B[43mX\u001B[49m\u001B[43m,\u001B[49m\n\u001B[1;32m    825\u001B[0m \u001B[43m        \u001B[49m\u001B[43my\u001B[49m\u001B[43m,\u001B[49m\n\u001B[1;32m    826\u001B[0m \u001B[43m        \u001B[49m\u001B[43mtrain\u001B[49m\u001B[38;5;241;43m=\u001B[39;49m\u001B[43mtrain\u001B[49m\u001B[43m,\u001B[49m\n\u001B[1;32m    827\u001B[0m \u001B[43m        \u001B[49m\u001B[43mtest\u001B[49m\u001B[38;5;241;43m=\u001B[39;49m\u001B[43mtest\u001B[49m\u001B[43m,\u001B[49m\n\u001B[1;32m    828\u001B[0m \u001B[43m        \u001B[49m\u001B[43mparameters\u001B[49m\u001B[38;5;241;43m=\u001B[39;49m\u001B[43mparameters\u001B[49m\u001B[43m,\u001B[49m\n\u001B[1;32m    829\u001B[0m \u001B[43m        \u001B[49m\u001B[43msplit_progress\u001B[49m\u001B[38;5;241;43m=\u001B[39;49m\u001B[43m(\u001B[49m\u001B[43msplit_idx\u001B[49m\u001B[43m,\u001B[49m\u001B[43m \u001B[49m\u001B[43mn_splits\u001B[49m\u001B[43m)\u001B[49m\u001B[43m,\u001B[49m\n\u001B[1;32m    830\u001B[0m \u001B[43m        \u001B[49m\u001B[43mcandidate_progress\u001B[49m\u001B[38;5;241;43m=\u001B[39;49m\u001B[43m(\u001B[49m\u001B[43mcand_idx\u001B[49m\u001B[43m,\u001B[49m\u001B[43m \u001B[49m\u001B[43mn_candidates\u001B[49m\u001B[43m)\u001B[49m\u001B[43m,\u001B[49m\n\u001B[1;32m    831\u001B[0m \u001B[43m        \u001B[49m\u001B[38;5;241;43m*\u001B[39;49m\u001B[38;5;241;43m*\u001B[39;49m\u001B[43mfit_and_score_kwargs\u001B[49m\u001B[43m,\u001B[49m\n\u001B[1;32m    832\u001B[0m \u001B[43m    \u001B[49m\u001B[43m)\u001B[49m\n\u001B[1;32m    833\u001B[0m \u001B[43m    \u001B[49m\u001B[38;5;28;43;01mfor\u001B[39;49;00m\u001B[43m \u001B[49m\u001B[43m(\u001B[49m\u001B[43mcand_idx\u001B[49m\u001B[43m,\u001B[49m\u001B[43m \u001B[49m\u001B[43mparameters\u001B[49m\u001B[43m)\u001B[49m\u001B[43m,\u001B[49m\u001B[43m \u001B[49m\u001B[43m(\u001B[49m\u001B[43msplit_idx\u001B[49m\u001B[43m,\u001B[49m\u001B[43m \u001B[49m\u001B[43m(\u001B[49m\u001B[43mtrain\u001B[49m\u001B[43m,\u001B[49m\u001B[43m \u001B[49m\u001B[43mtest\u001B[49m\u001B[43m)\u001B[49m\u001B[43m)\u001B[49m\u001B[43m \u001B[49m\u001B[38;5;129;43;01min\u001B[39;49;00m\u001B[43m \u001B[49m\u001B[43mproduct\u001B[49m\u001B[43m(\u001B[49m\n\u001B[1;32m    834\u001B[0m \u001B[43m        \u001B[49m\u001B[38;5;28;43menumerate\u001B[39;49m\u001B[43m(\u001B[49m\u001B[43mcandidate_params\u001B[49m\u001B[43m)\u001B[49m\u001B[43m,\u001B[49m\u001B[43m \u001B[49m\u001B[38;5;28;43menumerate\u001B[39;49m\u001B[43m(\u001B[49m\u001B[43mcv\u001B[49m\u001B[38;5;241;43m.\u001B[39;49m\u001B[43msplit\u001B[49m\u001B[43m(\u001B[49m\u001B[43mX\u001B[49m\u001B[43m,\u001B[49m\u001B[43m \u001B[49m\u001B[43my\u001B[49m\u001B[43m,\u001B[49m\u001B[43m \u001B[49m\u001B[43mgroups\u001B[49m\u001B[43m)\u001B[49m\u001B[43m)\u001B[49m\n\u001B[1;32m    835\u001B[0m \u001B[43m    \u001B[49m\u001B[43m)\u001B[49m\n\u001B[1;32m    836\u001B[0m \u001B[43m\u001B[49m\u001B[43m)\u001B[49m\n\u001B[1;32m    838\u001B[0m \u001B[38;5;28;01mif\u001B[39;00m \u001B[38;5;28mlen\u001B[39m(out) \u001B[38;5;241m<\u001B[39m \u001B[38;5;241m1\u001B[39m:\n\u001B[1;32m    839\u001B[0m     \u001B[38;5;28;01mraise\u001B[39;00m \u001B[38;5;167;01mValueError\u001B[39;00m(\n\u001B[1;32m    840\u001B[0m         \u001B[38;5;124m\"\u001B[39m\u001B[38;5;124mNo fits were performed. \u001B[39m\u001B[38;5;124m\"\u001B[39m\n\u001B[1;32m    841\u001B[0m         \u001B[38;5;124m\"\u001B[39m\u001B[38;5;124mWas the CV iterator empty? \u001B[39m\u001B[38;5;124m\"\u001B[39m\n\u001B[1;32m    842\u001B[0m         \u001B[38;5;124m\"\u001B[39m\u001B[38;5;124mWere there no candidates?\u001B[39m\u001B[38;5;124m\"\u001B[39m\n\u001B[1;32m    843\u001B[0m     )\n",
      "File \u001B[0;32m~/Documents/django_project/crop_recommendation_system/venv/lib/python3.11/site-packages/sklearn/utils/parallel.py:63\u001B[0m, in \u001B[0;36mParallel.__call__\u001B[0;34m(self, iterable)\u001B[0m\n\u001B[1;32m     58\u001B[0m config \u001B[38;5;241m=\u001B[39m get_config()\n\u001B[1;32m     59\u001B[0m iterable_with_config \u001B[38;5;241m=\u001B[39m (\n\u001B[1;32m     60\u001B[0m     (_with_config(delayed_func, config), args, kwargs)\n\u001B[1;32m     61\u001B[0m     \u001B[38;5;28;01mfor\u001B[39;00m delayed_func, args, kwargs \u001B[38;5;129;01min\u001B[39;00m iterable\n\u001B[1;32m     62\u001B[0m )\n\u001B[0;32m---> 63\u001B[0m \u001B[38;5;28;01mreturn\u001B[39;00m \u001B[38;5;28;43msuper\u001B[39;49m\u001B[43m(\u001B[49m\u001B[43m)\u001B[49m\u001B[38;5;241;43m.\u001B[39;49m\u001B[38;5;21;43m__call__\u001B[39;49m\u001B[43m(\u001B[49m\u001B[43miterable_with_config\u001B[49m\u001B[43m)\u001B[49m\n",
      "File \u001B[0;32m~/Documents/django_project/crop_recommendation_system/venv/lib/python3.11/site-packages/joblib/parallel.py:1088\u001B[0m, in \u001B[0;36mParallel.__call__\u001B[0;34m(self, iterable)\u001B[0m\n\u001B[1;32m   1085\u001B[0m \u001B[38;5;28;01mif\u001B[39;00m \u001B[38;5;28mself\u001B[39m\u001B[38;5;241m.\u001B[39mdispatch_one_batch(iterator):\n\u001B[1;32m   1086\u001B[0m     \u001B[38;5;28mself\u001B[39m\u001B[38;5;241m.\u001B[39m_iterating \u001B[38;5;241m=\u001B[39m \u001B[38;5;28mself\u001B[39m\u001B[38;5;241m.\u001B[39m_original_iterator \u001B[38;5;129;01mis\u001B[39;00m \u001B[38;5;129;01mnot\u001B[39;00m \u001B[38;5;28;01mNone\u001B[39;00m\n\u001B[0;32m-> 1088\u001B[0m \u001B[38;5;28;01mwhile\u001B[39;00m \u001B[38;5;28;43mself\u001B[39;49m\u001B[38;5;241;43m.\u001B[39;49m\u001B[43mdispatch_one_batch\u001B[49m\u001B[43m(\u001B[49m\u001B[43miterator\u001B[49m\u001B[43m)\u001B[49m:\n\u001B[1;32m   1089\u001B[0m     \u001B[38;5;28;01mpass\u001B[39;00m\n\u001B[1;32m   1091\u001B[0m \u001B[38;5;28;01mif\u001B[39;00m pre_dispatch \u001B[38;5;241m==\u001B[39m \u001B[38;5;124m\"\u001B[39m\u001B[38;5;124mall\u001B[39m\u001B[38;5;124m\"\u001B[39m \u001B[38;5;129;01mor\u001B[39;00m n_jobs \u001B[38;5;241m==\u001B[39m \u001B[38;5;241m1\u001B[39m:\n\u001B[1;32m   1092\u001B[0m     \u001B[38;5;66;03m# The iterable was consumed all at once by the above for loop.\u001B[39;00m\n\u001B[1;32m   1093\u001B[0m     \u001B[38;5;66;03m# No need to wait for async callbacks to trigger to\u001B[39;00m\n\u001B[1;32m   1094\u001B[0m     \u001B[38;5;66;03m# consumption.\u001B[39;00m\n",
      "File \u001B[0;32m~/Documents/django_project/crop_recommendation_system/venv/lib/python3.11/site-packages/joblib/parallel.py:901\u001B[0m, in \u001B[0;36mParallel.dispatch_one_batch\u001B[0;34m(self, iterator)\u001B[0m\n\u001B[1;32m    899\u001B[0m     \u001B[38;5;28;01mreturn\u001B[39;00m \u001B[38;5;28;01mFalse\u001B[39;00m\n\u001B[1;32m    900\u001B[0m \u001B[38;5;28;01melse\u001B[39;00m:\n\u001B[0;32m--> 901\u001B[0m     \u001B[38;5;28;43mself\u001B[39;49m\u001B[38;5;241;43m.\u001B[39;49m\u001B[43m_dispatch\u001B[49m\u001B[43m(\u001B[49m\u001B[43mtasks\u001B[49m\u001B[43m)\u001B[49m\n\u001B[1;32m    902\u001B[0m     \u001B[38;5;28;01mreturn\u001B[39;00m \u001B[38;5;28;01mTrue\u001B[39;00m\n",
      "File \u001B[0;32m~/Documents/django_project/crop_recommendation_system/venv/lib/python3.11/site-packages/joblib/parallel.py:819\u001B[0m, in \u001B[0;36mParallel._dispatch\u001B[0;34m(self, batch)\u001B[0m\n\u001B[1;32m    817\u001B[0m \u001B[38;5;28;01mwith\u001B[39;00m \u001B[38;5;28mself\u001B[39m\u001B[38;5;241m.\u001B[39m_lock:\n\u001B[1;32m    818\u001B[0m     job_idx \u001B[38;5;241m=\u001B[39m \u001B[38;5;28mlen\u001B[39m(\u001B[38;5;28mself\u001B[39m\u001B[38;5;241m.\u001B[39m_jobs)\n\u001B[0;32m--> 819\u001B[0m     job \u001B[38;5;241m=\u001B[39m \u001B[38;5;28;43mself\u001B[39;49m\u001B[38;5;241;43m.\u001B[39;49m\u001B[43m_backend\u001B[49m\u001B[38;5;241;43m.\u001B[39;49m\u001B[43mapply_async\u001B[49m\u001B[43m(\u001B[49m\u001B[43mbatch\u001B[49m\u001B[43m,\u001B[49m\u001B[43m \u001B[49m\u001B[43mcallback\u001B[49m\u001B[38;5;241;43m=\u001B[39;49m\u001B[43mcb\u001B[49m\u001B[43m)\u001B[49m\n\u001B[1;32m    820\u001B[0m     \u001B[38;5;66;03m# A job can complete so quickly than its callback is\u001B[39;00m\n\u001B[1;32m    821\u001B[0m     \u001B[38;5;66;03m# called before we get here, causing self._jobs to\u001B[39;00m\n\u001B[1;32m    822\u001B[0m     \u001B[38;5;66;03m# grow. To ensure correct results ordering, .insert is\u001B[39;00m\n\u001B[1;32m    823\u001B[0m     \u001B[38;5;66;03m# used (rather than .append) in the following line\u001B[39;00m\n\u001B[1;32m    824\u001B[0m     \u001B[38;5;28mself\u001B[39m\u001B[38;5;241m.\u001B[39m_jobs\u001B[38;5;241m.\u001B[39minsert(job_idx, job)\n",
      "File \u001B[0;32m~/Documents/django_project/crop_recommendation_system/venv/lib/python3.11/site-packages/joblib/_parallel_backends.py:208\u001B[0m, in \u001B[0;36mSequentialBackend.apply_async\u001B[0;34m(self, func, callback)\u001B[0m\n\u001B[1;32m    206\u001B[0m \u001B[38;5;28;01mdef\u001B[39;00m \u001B[38;5;21mapply_async\u001B[39m(\u001B[38;5;28mself\u001B[39m, func, callback\u001B[38;5;241m=\u001B[39m\u001B[38;5;28;01mNone\u001B[39;00m):\n\u001B[1;32m    207\u001B[0m \u001B[38;5;250m    \u001B[39m\u001B[38;5;124;03m\"\"\"Schedule a func to be run\"\"\"\u001B[39;00m\n\u001B[0;32m--> 208\u001B[0m     result \u001B[38;5;241m=\u001B[39m \u001B[43mImmediateResult\u001B[49m\u001B[43m(\u001B[49m\u001B[43mfunc\u001B[49m\u001B[43m)\u001B[49m\n\u001B[1;32m    209\u001B[0m     \u001B[38;5;28;01mif\u001B[39;00m callback:\n\u001B[1;32m    210\u001B[0m         callback(result)\n",
      "File \u001B[0;32m~/Documents/django_project/crop_recommendation_system/venv/lib/python3.11/site-packages/joblib/_parallel_backends.py:597\u001B[0m, in \u001B[0;36mImmediateResult.__init__\u001B[0;34m(self, batch)\u001B[0m\n\u001B[1;32m    594\u001B[0m \u001B[38;5;28;01mdef\u001B[39;00m \u001B[38;5;21m__init__\u001B[39m(\u001B[38;5;28mself\u001B[39m, batch):\n\u001B[1;32m    595\u001B[0m     \u001B[38;5;66;03m# Don't delay the application, to avoid keeping the input\u001B[39;00m\n\u001B[1;32m    596\u001B[0m     \u001B[38;5;66;03m# arguments in memory\u001B[39;00m\n\u001B[0;32m--> 597\u001B[0m     \u001B[38;5;28mself\u001B[39m\u001B[38;5;241m.\u001B[39mresults \u001B[38;5;241m=\u001B[39m \u001B[43mbatch\u001B[49m\u001B[43m(\u001B[49m\u001B[43m)\u001B[49m\n",
      "File \u001B[0;32m~/Documents/django_project/crop_recommendation_system/venv/lib/python3.11/site-packages/joblib/parallel.py:288\u001B[0m, in \u001B[0;36mBatchedCalls.__call__\u001B[0;34m(self)\u001B[0m\n\u001B[1;32m    284\u001B[0m \u001B[38;5;28;01mdef\u001B[39;00m \u001B[38;5;21m__call__\u001B[39m(\u001B[38;5;28mself\u001B[39m):\n\u001B[1;32m    285\u001B[0m     \u001B[38;5;66;03m# Set the default nested backend to self._backend but do not set the\u001B[39;00m\n\u001B[1;32m    286\u001B[0m     \u001B[38;5;66;03m# change the default number of processes to -1\u001B[39;00m\n\u001B[1;32m    287\u001B[0m     \u001B[38;5;28;01mwith\u001B[39;00m parallel_backend(\u001B[38;5;28mself\u001B[39m\u001B[38;5;241m.\u001B[39m_backend, n_jobs\u001B[38;5;241m=\u001B[39m\u001B[38;5;28mself\u001B[39m\u001B[38;5;241m.\u001B[39m_n_jobs):\n\u001B[0;32m--> 288\u001B[0m         \u001B[38;5;28;01mreturn\u001B[39;00m \u001B[43m[\u001B[49m\u001B[43mfunc\u001B[49m\u001B[43m(\u001B[49m\u001B[38;5;241;43m*\u001B[39;49m\u001B[43margs\u001B[49m\u001B[43m,\u001B[49m\u001B[43m \u001B[49m\u001B[38;5;241;43m*\u001B[39;49m\u001B[38;5;241;43m*\u001B[39;49m\u001B[43mkwargs\u001B[49m\u001B[43m)\u001B[49m\n\u001B[1;32m    289\u001B[0m \u001B[43m                \u001B[49m\u001B[38;5;28;43;01mfor\u001B[39;49;00m\u001B[43m \u001B[49m\u001B[43mfunc\u001B[49m\u001B[43m,\u001B[49m\u001B[43m \u001B[49m\u001B[43margs\u001B[49m\u001B[43m,\u001B[49m\u001B[43m \u001B[49m\u001B[43mkwargs\u001B[49m\u001B[43m \u001B[49m\u001B[38;5;129;43;01min\u001B[39;49;00m\u001B[43m \u001B[49m\u001B[38;5;28;43mself\u001B[39;49m\u001B[38;5;241;43m.\u001B[39;49m\u001B[43mitems\u001B[49m\u001B[43m]\u001B[49m\n",
      "File \u001B[0;32m~/Documents/django_project/crop_recommendation_system/venv/lib/python3.11/site-packages/joblib/parallel.py:288\u001B[0m, in \u001B[0;36m<listcomp>\u001B[0;34m(.0)\u001B[0m\n\u001B[1;32m    284\u001B[0m \u001B[38;5;28;01mdef\u001B[39;00m \u001B[38;5;21m__call__\u001B[39m(\u001B[38;5;28mself\u001B[39m):\n\u001B[1;32m    285\u001B[0m     \u001B[38;5;66;03m# Set the default nested backend to self._backend but do not set the\u001B[39;00m\n\u001B[1;32m    286\u001B[0m     \u001B[38;5;66;03m# change the default number of processes to -1\u001B[39;00m\n\u001B[1;32m    287\u001B[0m     \u001B[38;5;28;01mwith\u001B[39;00m parallel_backend(\u001B[38;5;28mself\u001B[39m\u001B[38;5;241m.\u001B[39m_backend, n_jobs\u001B[38;5;241m=\u001B[39m\u001B[38;5;28mself\u001B[39m\u001B[38;5;241m.\u001B[39m_n_jobs):\n\u001B[0;32m--> 288\u001B[0m         \u001B[38;5;28;01mreturn\u001B[39;00m [\u001B[43mfunc\u001B[49m\u001B[43m(\u001B[49m\u001B[38;5;241;43m*\u001B[39;49m\u001B[43margs\u001B[49m\u001B[43m,\u001B[49m\u001B[43m \u001B[49m\u001B[38;5;241;43m*\u001B[39;49m\u001B[38;5;241;43m*\u001B[39;49m\u001B[43mkwargs\u001B[49m\u001B[43m)\u001B[49m\n\u001B[1;32m    289\u001B[0m                 \u001B[38;5;28;01mfor\u001B[39;00m func, args, kwargs \u001B[38;5;129;01min\u001B[39;00m \u001B[38;5;28mself\u001B[39m\u001B[38;5;241m.\u001B[39mitems]\n",
      "File \u001B[0;32m~/Documents/django_project/crop_recommendation_system/venv/lib/python3.11/site-packages/sklearn/utils/parallel.py:123\u001B[0m, in \u001B[0;36m_FuncWrapper.__call__\u001B[0;34m(self, *args, **kwargs)\u001B[0m\n\u001B[1;32m    121\u001B[0m     config \u001B[38;5;241m=\u001B[39m {}\n\u001B[1;32m    122\u001B[0m \u001B[38;5;28;01mwith\u001B[39;00m config_context(\u001B[38;5;241m*\u001B[39m\u001B[38;5;241m*\u001B[39mconfig):\n\u001B[0;32m--> 123\u001B[0m     \u001B[38;5;28;01mreturn\u001B[39;00m \u001B[38;5;28;43mself\u001B[39;49m\u001B[38;5;241;43m.\u001B[39;49m\u001B[43mfunction\u001B[49m\u001B[43m(\u001B[49m\u001B[38;5;241;43m*\u001B[39;49m\u001B[43margs\u001B[49m\u001B[43m,\u001B[49m\u001B[43m \u001B[49m\u001B[38;5;241;43m*\u001B[39;49m\u001B[38;5;241;43m*\u001B[39;49m\u001B[43mkwargs\u001B[49m\u001B[43m)\u001B[49m\n",
      "File \u001B[0;32m~/Documents/django_project/crop_recommendation_system/venv/lib/python3.11/site-packages/sklearn/model_selection/_validation.py:686\u001B[0m, in \u001B[0;36m_fit_and_score\u001B[0;34m(estimator, X, y, scorer, train, test, verbose, parameters, fit_params, return_train_score, return_parameters, return_n_test_samples, return_times, return_estimator, split_progress, candidate_progress, error_score)\u001B[0m\n\u001B[1;32m    684\u001B[0m         estimator\u001B[38;5;241m.\u001B[39mfit(X_train, \u001B[38;5;241m*\u001B[39m\u001B[38;5;241m*\u001B[39mfit_params)\n\u001B[1;32m    685\u001B[0m     \u001B[38;5;28;01melse\u001B[39;00m:\n\u001B[0;32m--> 686\u001B[0m         \u001B[43mestimator\u001B[49m\u001B[38;5;241;43m.\u001B[39;49m\u001B[43mfit\u001B[49m\u001B[43m(\u001B[49m\u001B[43mX_train\u001B[49m\u001B[43m,\u001B[49m\u001B[43m \u001B[49m\u001B[43my_train\u001B[49m\u001B[43m,\u001B[49m\u001B[43m \u001B[49m\u001B[38;5;241;43m*\u001B[39;49m\u001B[38;5;241;43m*\u001B[39;49m\u001B[43mfit_params\u001B[49m\u001B[43m)\u001B[49m\n\u001B[1;32m    688\u001B[0m \u001B[38;5;28;01mexcept\u001B[39;00m \u001B[38;5;167;01mException\u001B[39;00m:\n\u001B[1;32m    689\u001B[0m     \u001B[38;5;66;03m# Note fit time as time until error\u001B[39;00m\n\u001B[1;32m    690\u001B[0m     fit_time \u001B[38;5;241m=\u001B[39m time\u001B[38;5;241m.\u001B[39mtime() \u001B[38;5;241m-\u001B[39m start_time\n",
      "File \u001B[0;32m~/Documents/django_project/crop_recommendation_system/venv/lib/python3.11/site-packages/sklearn/ensemble/_forest.py:473\u001B[0m, in \u001B[0;36mBaseForest.fit\u001B[0;34m(self, X, y, sample_weight)\u001B[0m\n\u001B[1;32m    462\u001B[0m trees \u001B[38;5;241m=\u001B[39m [\n\u001B[1;32m    463\u001B[0m     \u001B[38;5;28mself\u001B[39m\u001B[38;5;241m.\u001B[39m_make_estimator(append\u001B[38;5;241m=\u001B[39m\u001B[38;5;28;01mFalse\u001B[39;00m, random_state\u001B[38;5;241m=\u001B[39mrandom_state)\n\u001B[1;32m    464\u001B[0m     \u001B[38;5;28;01mfor\u001B[39;00m i \u001B[38;5;129;01min\u001B[39;00m \u001B[38;5;28mrange\u001B[39m(n_more_estimators)\n\u001B[1;32m    465\u001B[0m ]\n\u001B[1;32m    467\u001B[0m \u001B[38;5;66;03m# Parallel loop: we prefer the threading backend as the Cython code\u001B[39;00m\n\u001B[1;32m    468\u001B[0m \u001B[38;5;66;03m# for fitting the trees is internally releasing the Python GIL\u001B[39;00m\n\u001B[1;32m    469\u001B[0m \u001B[38;5;66;03m# making threading more efficient than multiprocessing in\u001B[39;00m\n\u001B[1;32m    470\u001B[0m \u001B[38;5;66;03m# that case. However, for joblib 0.12+ we respect any\u001B[39;00m\n\u001B[1;32m    471\u001B[0m \u001B[38;5;66;03m# parallel_backend contexts set at a higher level,\u001B[39;00m\n\u001B[1;32m    472\u001B[0m \u001B[38;5;66;03m# since correctness does not rely on using threads.\u001B[39;00m\n\u001B[0;32m--> 473\u001B[0m trees \u001B[38;5;241m=\u001B[39m \u001B[43mParallel\u001B[49m\u001B[43m(\u001B[49m\n\u001B[1;32m    474\u001B[0m \u001B[43m    \u001B[49m\u001B[43mn_jobs\u001B[49m\u001B[38;5;241;43m=\u001B[39;49m\u001B[38;5;28;43mself\u001B[39;49m\u001B[38;5;241;43m.\u001B[39;49m\u001B[43mn_jobs\u001B[49m\u001B[43m,\u001B[49m\n\u001B[1;32m    475\u001B[0m \u001B[43m    \u001B[49m\u001B[43mverbose\u001B[49m\u001B[38;5;241;43m=\u001B[39;49m\u001B[38;5;28;43mself\u001B[39;49m\u001B[38;5;241;43m.\u001B[39;49m\u001B[43mverbose\u001B[49m\u001B[43m,\u001B[49m\n\u001B[1;32m    476\u001B[0m \u001B[43m    \u001B[49m\u001B[43mprefer\u001B[49m\u001B[38;5;241;43m=\u001B[39;49m\u001B[38;5;124;43m\"\u001B[39;49m\u001B[38;5;124;43mthreads\u001B[39;49m\u001B[38;5;124;43m\"\u001B[39;49m\u001B[43m,\u001B[49m\n\u001B[1;32m    477\u001B[0m \u001B[43m\u001B[49m\u001B[43m)\u001B[49m\u001B[43m(\u001B[49m\n\u001B[1;32m    478\u001B[0m \u001B[43m    \u001B[49m\u001B[43mdelayed\u001B[49m\u001B[43m(\u001B[49m\u001B[43m_parallel_build_trees\u001B[49m\u001B[43m)\u001B[49m\u001B[43m(\u001B[49m\n\u001B[1;32m    479\u001B[0m \u001B[43m        \u001B[49m\u001B[43mt\u001B[49m\u001B[43m,\u001B[49m\n\u001B[1;32m    480\u001B[0m \u001B[43m        \u001B[49m\u001B[38;5;28;43mself\u001B[39;49m\u001B[38;5;241;43m.\u001B[39;49m\u001B[43mbootstrap\u001B[49m\u001B[43m,\u001B[49m\n\u001B[1;32m    481\u001B[0m \u001B[43m        \u001B[49m\u001B[43mX\u001B[49m\u001B[43m,\u001B[49m\n\u001B[1;32m    482\u001B[0m \u001B[43m        \u001B[49m\u001B[43my\u001B[49m\u001B[43m,\u001B[49m\n\u001B[1;32m    483\u001B[0m \u001B[43m        \u001B[49m\u001B[43msample_weight\u001B[49m\u001B[43m,\u001B[49m\n\u001B[1;32m    484\u001B[0m \u001B[43m        \u001B[49m\u001B[43mi\u001B[49m\u001B[43m,\u001B[49m\n\u001B[1;32m    485\u001B[0m \u001B[43m        \u001B[49m\u001B[38;5;28;43mlen\u001B[39;49m\u001B[43m(\u001B[49m\u001B[43mtrees\u001B[49m\u001B[43m)\u001B[49m\u001B[43m,\u001B[49m\n\u001B[1;32m    486\u001B[0m \u001B[43m        \u001B[49m\u001B[43mverbose\u001B[49m\u001B[38;5;241;43m=\u001B[39;49m\u001B[38;5;28;43mself\u001B[39;49m\u001B[38;5;241;43m.\u001B[39;49m\u001B[43mverbose\u001B[49m\u001B[43m,\u001B[49m\n\u001B[1;32m    487\u001B[0m \u001B[43m        \u001B[49m\u001B[43mclass_weight\u001B[49m\u001B[38;5;241;43m=\u001B[39;49m\u001B[38;5;28;43mself\u001B[39;49m\u001B[38;5;241;43m.\u001B[39;49m\u001B[43mclass_weight\u001B[49m\u001B[43m,\u001B[49m\n\u001B[1;32m    488\u001B[0m \u001B[43m        \u001B[49m\u001B[43mn_samples_bootstrap\u001B[49m\u001B[38;5;241;43m=\u001B[39;49m\u001B[43mn_samples_bootstrap\u001B[49m\u001B[43m,\u001B[49m\n\u001B[1;32m    489\u001B[0m \u001B[43m    \u001B[49m\u001B[43m)\u001B[49m\n\u001B[1;32m    490\u001B[0m \u001B[43m    \u001B[49m\u001B[38;5;28;43;01mfor\u001B[39;49;00m\u001B[43m \u001B[49m\u001B[43mi\u001B[49m\u001B[43m,\u001B[49m\u001B[43m \u001B[49m\u001B[43mt\u001B[49m\u001B[43m \u001B[49m\u001B[38;5;129;43;01min\u001B[39;49;00m\u001B[43m \u001B[49m\u001B[38;5;28;43menumerate\u001B[39;49m\u001B[43m(\u001B[49m\u001B[43mtrees\u001B[49m\u001B[43m)\u001B[49m\n\u001B[1;32m    491\u001B[0m \u001B[43m\u001B[49m\u001B[43m)\u001B[49m\n\u001B[1;32m    493\u001B[0m \u001B[38;5;66;03m# Collect newly grown trees\u001B[39;00m\n\u001B[1;32m    494\u001B[0m \u001B[38;5;28mself\u001B[39m\u001B[38;5;241m.\u001B[39mestimators_\u001B[38;5;241m.\u001B[39mextend(trees)\n",
      "File \u001B[0;32m~/Documents/django_project/crop_recommendation_system/venv/lib/python3.11/site-packages/sklearn/utils/parallel.py:63\u001B[0m, in \u001B[0;36mParallel.__call__\u001B[0;34m(self, iterable)\u001B[0m\n\u001B[1;32m     58\u001B[0m config \u001B[38;5;241m=\u001B[39m get_config()\n\u001B[1;32m     59\u001B[0m iterable_with_config \u001B[38;5;241m=\u001B[39m (\n\u001B[1;32m     60\u001B[0m     (_with_config(delayed_func, config), args, kwargs)\n\u001B[1;32m     61\u001B[0m     \u001B[38;5;28;01mfor\u001B[39;00m delayed_func, args, kwargs \u001B[38;5;129;01min\u001B[39;00m iterable\n\u001B[1;32m     62\u001B[0m )\n\u001B[0;32m---> 63\u001B[0m \u001B[38;5;28;01mreturn\u001B[39;00m \u001B[38;5;28;43msuper\u001B[39;49m\u001B[43m(\u001B[49m\u001B[43m)\u001B[49m\u001B[38;5;241;43m.\u001B[39;49m\u001B[38;5;21;43m__call__\u001B[39;49m\u001B[43m(\u001B[49m\u001B[43miterable_with_config\u001B[49m\u001B[43m)\u001B[49m\n",
      "File \u001B[0;32m~/Documents/django_project/crop_recommendation_system/venv/lib/python3.11/site-packages/joblib/parallel.py:1088\u001B[0m, in \u001B[0;36mParallel.__call__\u001B[0;34m(self, iterable)\u001B[0m\n\u001B[1;32m   1085\u001B[0m \u001B[38;5;28;01mif\u001B[39;00m \u001B[38;5;28mself\u001B[39m\u001B[38;5;241m.\u001B[39mdispatch_one_batch(iterator):\n\u001B[1;32m   1086\u001B[0m     \u001B[38;5;28mself\u001B[39m\u001B[38;5;241m.\u001B[39m_iterating \u001B[38;5;241m=\u001B[39m \u001B[38;5;28mself\u001B[39m\u001B[38;5;241m.\u001B[39m_original_iterator \u001B[38;5;129;01mis\u001B[39;00m \u001B[38;5;129;01mnot\u001B[39;00m \u001B[38;5;28;01mNone\u001B[39;00m\n\u001B[0;32m-> 1088\u001B[0m \u001B[38;5;28;01mwhile\u001B[39;00m \u001B[38;5;28;43mself\u001B[39;49m\u001B[38;5;241;43m.\u001B[39;49m\u001B[43mdispatch_one_batch\u001B[49m\u001B[43m(\u001B[49m\u001B[43miterator\u001B[49m\u001B[43m)\u001B[49m:\n\u001B[1;32m   1089\u001B[0m     \u001B[38;5;28;01mpass\u001B[39;00m\n\u001B[1;32m   1091\u001B[0m \u001B[38;5;28;01mif\u001B[39;00m pre_dispatch \u001B[38;5;241m==\u001B[39m \u001B[38;5;124m\"\u001B[39m\u001B[38;5;124mall\u001B[39m\u001B[38;5;124m\"\u001B[39m \u001B[38;5;129;01mor\u001B[39;00m n_jobs \u001B[38;5;241m==\u001B[39m \u001B[38;5;241m1\u001B[39m:\n\u001B[1;32m   1092\u001B[0m     \u001B[38;5;66;03m# The iterable was consumed all at once by the above for loop.\u001B[39;00m\n\u001B[1;32m   1093\u001B[0m     \u001B[38;5;66;03m# No need to wait for async callbacks to trigger to\u001B[39;00m\n\u001B[1;32m   1094\u001B[0m     \u001B[38;5;66;03m# consumption.\u001B[39;00m\n",
      "File \u001B[0;32m~/Documents/django_project/crop_recommendation_system/venv/lib/python3.11/site-packages/joblib/parallel.py:901\u001B[0m, in \u001B[0;36mParallel.dispatch_one_batch\u001B[0;34m(self, iterator)\u001B[0m\n\u001B[1;32m    899\u001B[0m     \u001B[38;5;28;01mreturn\u001B[39;00m \u001B[38;5;28;01mFalse\u001B[39;00m\n\u001B[1;32m    900\u001B[0m \u001B[38;5;28;01melse\u001B[39;00m:\n\u001B[0;32m--> 901\u001B[0m     \u001B[38;5;28;43mself\u001B[39;49m\u001B[38;5;241;43m.\u001B[39;49m\u001B[43m_dispatch\u001B[49m\u001B[43m(\u001B[49m\u001B[43mtasks\u001B[49m\u001B[43m)\u001B[49m\n\u001B[1;32m    902\u001B[0m     \u001B[38;5;28;01mreturn\u001B[39;00m \u001B[38;5;28;01mTrue\u001B[39;00m\n",
      "File \u001B[0;32m~/Documents/django_project/crop_recommendation_system/venv/lib/python3.11/site-packages/joblib/parallel.py:819\u001B[0m, in \u001B[0;36mParallel._dispatch\u001B[0;34m(self, batch)\u001B[0m\n\u001B[1;32m    817\u001B[0m \u001B[38;5;28;01mwith\u001B[39;00m \u001B[38;5;28mself\u001B[39m\u001B[38;5;241m.\u001B[39m_lock:\n\u001B[1;32m    818\u001B[0m     job_idx \u001B[38;5;241m=\u001B[39m \u001B[38;5;28mlen\u001B[39m(\u001B[38;5;28mself\u001B[39m\u001B[38;5;241m.\u001B[39m_jobs)\n\u001B[0;32m--> 819\u001B[0m     job \u001B[38;5;241m=\u001B[39m \u001B[38;5;28;43mself\u001B[39;49m\u001B[38;5;241;43m.\u001B[39;49m\u001B[43m_backend\u001B[49m\u001B[38;5;241;43m.\u001B[39;49m\u001B[43mapply_async\u001B[49m\u001B[43m(\u001B[49m\u001B[43mbatch\u001B[49m\u001B[43m,\u001B[49m\u001B[43m \u001B[49m\u001B[43mcallback\u001B[49m\u001B[38;5;241;43m=\u001B[39;49m\u001B[43mcb\u001B[49m\u001B[43m)\u001B[49m\n\u001B[1;32m    820\u001B[0m     \u001B[38;5;66;03m# A job can complete so quickly than its callback is\u001B[39;00m\n\u001B[1;32m    821\u001B[0m     \u001B[38;5;66;03m# called before we get here, causing self._jobs to\u001B[39;00m\n\u001B[1;32m    822\u001B[0m     \u001B[38;5;66;03m# grow. To ensure correct results ordering, .insert is\u001B[39;00m\n\u001B[1;32m    823\u001B[0m     \u001B[38;5;66;03m# used (rather than .append) in the following line\u001B[39;00m\n\u001B[1;32m    824\u001B[0m     \u001B[38;5;28mself\u001B[39m\u001B[38;5;241m.\u001B[39m_jobs\u001B[38;5;241m.\u001B[39minsert(job_idx, job)\n",
      "File \u001B[0;32m~/Documents/django_project/crop_recommendation_system/venv/lib/python3.11/site-packages/joblib/_parallel_backends.py:208\u001B[0m, in \u001B[0;36mSequentialBackend.apply_async\u001B[0;34m(self, func, callback)\u001B[0m\n\u001B[1;32m    206\u001B[0m \u001B[38;5;28;01mdef\u001B[39;00m \u001B[38;5;21mapply_async\u001B[39m(\u001B[38;5;28mself\u001B[39m, func, callback\u001B[38;5;241m=\u001B[39m\u001B[38;5;28;01mNone\u001B[39;00m):\n\u001B[1;32m    207\u001B[0m \u001B[38;5;250m    \u001B[39m\u001B[38;5;124;03m\"\"\"Schedule a func to be run\"\"\"\u001B[39;00m\n\u001B[0;32m--> 208\u001B[0m     result \u001B[38;5;241m=\u001B[39m \u001B[43mImmediateResult\u001B[49m\u001B[43m(\u001B[49m\u001B[43mfunc\u001B[49m\u001B[43m)\u001B[49m\n\u001B[1;32m    209\u001B[0m     \u001B[38;5;28;01mif\u001B[39;00m callback:\n\u001B[1;32m    210\u001B[0m         callback(result)\n",
      "File \u001B[0;32m~/Documents/django_project/crop_recommendation_system/venv/lib/python3.11/site-packages/joblib/_parallel_backends.py:597\u001B[0m, in \u001B[0;36mImmediateResult.__init__\u001B[0;34m(self, batch)\u001B[0m\n\u001B[1;32m    594\u001B[0m \u001B[38;5;28;01mdef\u001B[39;00m \u001B[38;5;21m__init__\u001B[39m(\u001B[38;5;28mself\u001B[39m, batch):\n\u001B[1;32m    595\u001B[0m     \u001B[38;5;66;03m# Don't delay the application, to avoid keeping the input\u001B[39;00m\n\u001B[1;32m    596\u001B[0m     \u001B[38;5;66;03m# arguments in memory\u001B[39;00m\n\u001B[0;32m--> 597\u001B[0m     \u001B[38;5;28mself\u001B[39m\u001B[38;5;241m.\u001B[39mresults \u001B[38;5;241m=\u001B[39m \u001B[43mbatch\u001B[49m\u001B[43m(\u001B[49m\u001B[43m)\u001B[49m\n",
      "File \u001B[0;32m~/Documents/django_project/crop_recommendation_system/venv/lib/python3.11/site-packages/joblib/parallel.py:288\u001B[0m, in \u001B[0;36mBatchedCalls.__call__\u001B[0;34m(self)\u001B[0m\n\u001B[1;32m    284\u001B[0m \u001B[38;5;28;01mdef\u001B[39;00m \u001B[38;5;21m__call__\u001B[39m(\u001B[38;5;28mself\u001B[39m):\n\u001B[1;32m    285\u001B[0m     \u001B[38;5;66;03m# Set the default nested backend to self._backend but do not set the\u001B[39;00m\n\u001B[1;32m    286\u001B[0m     \u001B[38;5;66;03m# change the default number of processes to -1\u001B[39;00m\n\u001B[1;32m    287\u001B[0m     \u001B[38;5;28;01mwith\u001B[39;00m parallel_backend(\u001B[38;5;28mself\u001B[39m\u001B[38;5;241m.\u001B[39m_backend, n_jobs\u001B[38;5;241m=\u001B[39m\u001B[38;5;28mself\u001B[39m\u001B[38;5;241m.\u001B[39m_n_jobs):\n\u001B[0;32m--> 288\u001B[0m         \u001B[38;5;28;01mreturn\u001B[39;00m \u001B[43m[\u001B[49m\u001B[43mfunc\u001B[49m\u001B[43m(\u001B[49m\u001B[38;5;241;43m*\u001B[39;49m\u001B[43margs\u001B[49m\u001B[43m,\u001B[49m\u001B[43m \u001B[49m\u001B[38;5;241;43m*\u001B[39;49m\u001B[38;5;241;43m*\u001B[39;49m\u001B[43mkwargs\u001B[49m\u001B[43m)\u001B[49m\n\u001B[1;32m    289\u001B[0m \u001B[43m                \u001B[49m\u001B[38;5;28;43;01mfor\u001B[39;49;00m\u001B[43m \u001B[49m\u001B[43mfunc\u001B[49m\u001B[43m,\u001B[49m\u001B[43m \u001B[49m\u001B[43margs\u001B[49m\u001B[43m,\u001B[49m\u001B[43m \u001B[49m\u001B[43mkwargs\u001B[49m\u001B[43m \u001B[49m\u001B[38;5;129;43;01min\u001B[39;49;00m\u001B[43m \u001B[49m\u001B[38;5;28;43mself\u001B[39;49m\u001B[38;5;241;43m.\u001B[39;49m\u001B[43mitems\u001B[49m\u001B[43m]\u001B[49m\n",
      "File \u001B[0;32m~/Documents/django_project/crop_recommendation_system/venv/lib/python3.11/site-packages/joblib/parallel.py:288\u001B[0m, in \u001B[0;36m<listcomp>\u001B[0;34m(.0)\u001B[0m\n\u001B[1;32m    284\u001B[0m \u001B[38;5;28;01mdef\u001B[39;00m \u001B[38;5;21m__call__\u001B[39m(\u001B[38;5;28mself\u001B[39m):\n\u001B[1;32m    285\u001B[0m     \u001B[38;5;66;03m# Set the default nested backend to self._backend but do not set the\u001B[39;00m\n\u001B[1;32m    286\u001B[0m     \u001B[38;5;66;03m# change the default number of processes to -1\u001B[39;00m\n\u001B[1;32m    287\u001B[0m     \u001B[38;5;28;01mwith\u001B[39;00m parallel_backend(\u001B[38;5;28mself\u001B[39m\u001B[38;5;241m.\u001B[39m_backend, n_jobs\u001B[38;5;241m=\u001B[39m\u001B[38;5;28mself\u001B[39m\u001B[38;5;241m.\u001B[39m_n_jobs):\n\u001B[0;32m--> 288\u001B[0m         \u001B[38;5;28;01mreturn\u001B[39;00m [\u001B[43mfunc\u001B[49m\u001B[43m(\u001B[49m\u001B[38;5;241;43m*\u001B[39;49m\u001B[43margs\u001B[49m\u001B[43m,\u001B[49m\u001B[43m \u001B[49m\u001B[38;5;241;43m*\u001B[39;49m\u001B[38;5;241;43m*\u001B[39;49m\u001B[43mkwargs\u001B[49m\u001B[43m)\u001B[49m\n\u001B[1;32m    289\u001B[0m                 \u001B[38;5;28;01mfor\u001B[39;00m func, args, kwargs \u001B[38;5;129;01min\u001B[39;00m \u001B[38;5;28mself\u001B[39m\u001B[38;5;241m.\u001B[39mitems]\n",
      "File \u001B[0;32m~/Documents/django_project/crop_recommendation_system/venv/lib/python3.11/site-packages/sklearn/utils/parallel.py:123\u001B[0m, in \u001B[0;36m_FuncWrapper.__call__\u001B[0;34m(self, *args, **kwargs)\u001B[0m\n\u001B[1;32m    121\u001B[0m     config \u001B[38;5;241m=\u001B[39m {}\n\u001B[1;32m    122\u001B[0m \u001B[38;5;28;01mwith\u001B[39;00m config_context(\u001B[38;5;241m*\u001B[39m\u001B[38;5;241m*\u001B[39mconfig):\n\u001B[0;32m--> 123\u001B[0m     \u001B[38;5;28;01mreturn\u001B[39;00m \u001B[38;5;28;43mself\u001B[39;49m\u001B[38;5;241;43m.\u001B[39;49m\u001B[43mfunction\u001B[49m\u001B[43m(\u001B[49m\u001B[38;5;241;43m*\u001B[39;49m\u001B[43margs\u001B[49m\u001B[43m,\u001B[49m\u001B[43m \u001B[49m\u001B[38;5;241;43m*\u001B[39;49m\u001B[38;5;241;43m*\u001B[39;49m\u001B[43mkwargs\u001B[49m\u001B[43m)\u001B[49m\n",
      "File \u001B[0;32m~/Documents/django_project/crop_recommendation_system/venv/lib/python3.11/site-packages/sklearn/ensemble/_forest.py:184\u001B[0m, in \u001B[0;36m_parallel_build_trees\u001B[0;34m(tree, bootstrap, X, y, sample_weight, tree_idx, n_trees, verbose, class_weight, n_samples_bootstrap)\u001B[0m\n\u001B[1;32m    181\u001B[0m     \u001B[38;5;28;01melif\u001B[39;00m class_weight \u001B[38;5;241m==\u001B[39m \u001B[38;5;124m\"\u001B[39m\u001B[38;5;124mbalanced_subsample\u001B[39m\u001B[38;5;124m\"\u001B[39m:\n\u001B[1;32m    182\u001B[0m         curr_sample_weight \u001B[38;5;241m*\u001B[39m\u001B[38;5;241m=\u001B[39m compute_sample_weight(\u001B[38;5;124m\"\u001B[39m\u001B[38;5;124mbalanced\u001B[39m\u001B[38;5;124m\"\u001B[39m, y, indices\u001B[38;5;241m=\u001B[39mindices)\n\u001B[0;32m--> 184\u001B[0m     \u001B[43mtree\u001B[49m\u001B[38;5;241;43m.\u001B[39;49m\u001B[43mfit\u001B[49m\u001B[43m(\u001B[49m\u001B[43mX\u001B[49m\u001B[43m,\u001B[49m\u001B[43m \u001B[49m\u001B[43my\u001B[49m\u001B[43m,\u001B[49m\u001B[43m \u001B[49m\u001B[43msample_weight\u001B[49m\u001B[38;5;241;43m=\u001B[39;49m\u001B[43mcurr_sample_weight\u001B[49m\u001B[43m,\u001B[49m\u001B[43m \u001B[49m\u001B[43mcheck_input\u001B[49m\u001B[38;5;241;43m=\u001B[39;49m\u001B[38;5;28;43;01mFalse\u001B[39;49;00m\u001B[43m)\u001B[49m\n\u001B[1;32m    185\u001B[0m \u001B[38;5;28;01melse\u001B[39;00m:\n\u001B[1;32m    186\u001B[0m     tree\u001B[38;5;241m.\u001B[39mfit(X, y, sample_weight\u001B[38;5;241m=\u001B[39msample_weight, check_input\u001B[38;5;241m=\u001B[39m\u001B[38;5;28;01mFalse\u001B[39;00m)\n",
      "File \u001B[0;32m~/Documents/django_project/crop_recommendation_system/venv/lib/python3.11/site-packages/sklearn/tree/_classes.py:1247\u001B[0m, in \u001B[0;36mDecisionTreeRegressor.fit\u001B[0;34m(self, X, y, sample_weight, check_input)\u001B[0m\n\u001B[1;32m   1218\u001B[0m \u001B[38;5;28;01mdef\u001B[39;00m \u001B[38;5;21mfit\u001B[39m(\u001B[38;5;28mself\u001B[39m, X, y, sample_weight\u001B[38;5;241m=\u001B[39m\u001B[38;5;28;01mNone\u001B[39;00m, check_input\u001B[38;5;241m=\u001B[39m\u001B[38;5;28;01mTrue\u001B[39;00m):\n\u001B[1;32m   1219\u001B[0m \u001B[38;5;250m    \u001B[39m\u001B[38;5;124;03m\"\"\"Build a decision tree regressor from the training set (X, y).\u001B[39;00m\n\u001B[1;32m   1220\u001B[0m \n\u001B[1;32m   1221\u001B[0m \u001B[38;5;124;03m    Parameters\u001B[39;00m\n\u001B[0;32m   (...)\u001B[0m\n\u001B[1;32m   1244\u001B[0m \u001B[38;5;124;03m        Fitted estimator.\u001B[39;00m\n\u001B[1;32m   1245\u001B[0m \u001B[38;5;124;03m    \"\"\"\u001B[39;00m\n\u001B[0;32m-> 1247\u001B[0m     \u001B[38;5;28;43msuper\u001B[39;49m\u001B[43m(\u001B[49m\u001B[43m)\u001B[49m\u001B[38;5;241;43m.\u001B[39;49m\u001B[43mfit\u001B[49m\u001B[43m(\u001B[49m\n\u001B[1;32m   1248\u001B[0m \u001B[43m        \u001B[49m\u001B[43mX\u001B[49m\u001B[43m,\u001B[49m\n\u001B[1;32m   1249\u001B[0m \u001B[43m        \u001B[49m\u001B[43my\u001B[49m\u001B[43m,\u001B[49m\n\u001B[1;32m   1250\u001B[0m \u001B[43m        \u001B[49m\u001B[43msample_weight\u001B[49m\u001B[38;5;241;43m=\u001B[39;49m\u001B[43msample_weight\u001B[49m\u001B[43m,\u001B[49m\n\u001B[1;32m   1251\u001B[0m \u001B[43m        \u001B[49m\u001B[43mcheck_input\u001B[49m\u001B[38;5;241;43m=\u001B[39;49m\u001B[43mcheck_input\u001B[49m\u001B[43m,\u001B[49m\n\u001B[1;32m   1252\u001B[0m \u001B[43m    \u001B[49m\u001B[43m)\u001B[49m\n\u001B[1;32m   1253\u001B[0m     \u001B[38;5;28;01mreturn\u001B[39;00m \u001B[38;5;28mself\u001B[39m\n",
      "File \u001B[0;32m~/Documents/django_project/crop_recommendation_system/venv/lib/python3.11/site-packages/sklearn/tree/_classes.py:379\u001B[0m, in \u001B[0;36mBaseDecisionTree.fit\u001B[0;34m(self, X, y, sample_weight, check_input)\u001B[0m\n\u001B[1;32m    368\u001B[0m \u001B[38;5;28;01melse\u001B[39;00m:\n\u001B[1;32m    369\u001B[0m     builder \u001B[38;5;241m=\u001B[39m BestFirstTreeBuilder(\n\u001B[1;32m    370\u001B[0m         splitter,\n\u001B[1;32m    371\u001B[0m         min_samples_split,\n\u001B[0;32m   (...)\u001B[0m\n\u001B[1;32m    376\u001B[0m         \u001B[38;5;28mself\u001B[39m\u001B[38;5;241m.\u001B[39mmin_impurity_decrease,\n\u001B[1;32m    377\u001B[0m     )\n\u001B[0;32m--> 379\u001B[0m \u001B[43mbuilder\u001B[49m\u001B[38;5;241;43m.\u001B[39;49m\u001B[43mbuild\u001B[49m\u001B[43m(\u001B[49m\u001B[38;5;28;43mself\u001B[39;49m\u001B[38;5;241;43m.\u001B[39;49m\u001B[43mtree_\u001B[49m\u001B[43m,\u001B[49m\u001B[43m \u001B[49m\u001B[43mX\u001B[49m\u001B[43m,\u001B[49m\u001B[43m \u001B[49m\u001B[43my\u001B[49m\u001B[43m,\u001B[49m\u001B[43m \u001B[49m\u001B[43msample_weight\u001B[49m\u001B[43m)\u001B[49m\n\u001B[1;32m    381\u001B[0m \u001B[38;5;28;01mif\u001B[39;00m \u001B[38;5;28mself\u001B[39m\u001B[38;5;241m.\u001B[39mn_outputs_ \u001B[38;5;241m==\u001B[39m \u001B[38;5;241m1\u001B[39m \u001B[38;5;129;01mand\u001B[39;00m is_classifier(\u001B[38;5;28mself\u001B[39m):\n\u001B[1;32m    382\u001B[0m     \u001B[38;5;28mself\u001B[39m\u001B[38;5;241m.\u001B[39mn_classes_ \u001B[38;5;241m=\u001B[39m \u001B[38;5;28mself\u001B[39m\u001B[38;5;241m.\u001B[39mn_classes_[\u001B[38;5;241m0\u001B[39m]\n",
      "\u001B[0;31mKeyboardInterrupt\u001B[0m: "
     ]
    }
   ],
   "source": [
    "from sklearn.model_selection import RandomizedSearchCV\n",
    "from sklearn.ensemble import RandomForestRegressor\n",
    "\n",
    "import numpy as np\n",
    "\n",
    "# Load the dataset\n",
    "\n",
    "X = X_train\n",
    "y = y_train\n",
    "\n",
    "# Define the model\n",
    "model = RandomForestRegressor()\n",
    "\n",
    "# Define the parameter grid for tuning\n",
    "param_grid = {\n",
    "    'n_estimators': np.arange(50, 300, 50),\n",
    "    'max_depth': [None, 5, 10, 15, 20],\n",
    "    'min_samples_split': np.arange(2, 10, 2)\n",
    "}\n",
    "\n",
    "# Perform randomized search with cross-validation\n",
    "random_search = RandomizedSearchCV(estimator=model, param_distributions=param_grid, n_iter=10, cv=5)\n",
    "random_search.fit(X, y)\n",
    "\n",
    "# Print the best parameters and best score\n",
    "print(\"Best Parameters: \", random_search.best_params_)\n",
    "print(\"Best Score: \", random_search.best_score_)\n"
   ],
   "metadata": {
    "collapsed": false
   }
  },
  {
   "cell_type": "code",
   "execution_count": null,
   "outputs": [],
   "source": [],
   "metadata": {
    "collapsed": false
   }
  }
 ],
 "metadata": {
  "kernelspec": {
   "display_name": "Python 3",
   "language": "python",
   "name": "python3"
  },
  "language_info": {
   "codemirror_mode": {
    "name": "ipython",
    "version": 2
   },
   "file_extension": ".py",
   "mimetype": "text/x-python",
   "name": "python",
   "nbconvert_exporter": "python",
   "pygments_lexer": "ipython2",
   "version": "2.7.6"
  }
 },
 "nbformat": 4,
 "nbformat_minor": 0
}
